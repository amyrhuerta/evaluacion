{
  "nbformat": 4,
  "nbformat_minor": 0,
  "metadata": {
    "colab": {
      "provenance": [],
      "authorship_tag": "ABX9TyOBgDYacmfN6u6j4x8JacA4",
      "include_colab_link": true
    },
    "kernelspec": {
      "name": "python3",
      "display_name": "Python 3"
    },
    "language_info": {
      "name": "python"
    }
  },
  "cells": [
    {
      "cell_type": "markdown",
      "metadata": {
        "id": "view-in-github",
        "colab_type": "text"
      },
      "source": [
        "<a href=\"https://colab.research.google.com/github/amyrhuerta/evaluacion/blob/main/EVALUACION.ipynb\" target=\"_parent\"><img src=\"https://colab.research.google.com/assets/colab-badge.svg\" alt=\"Open In Colab\"/></a>"
      ]
    },
    {
      "cell_type": "markdown",
      "source": [
        "# **Evaluacion**\n",
        "\n",
        "Amairany | A101702927"
      ],
      "metadata": {
        "id": "J8JPhRaf12qT"
      }
    },
    {
      "cell_type": "markdown",
      "source": [
        "## Parte 1: Preprocesamiento de datos"
      ],
      "metadata": {
        "id": "Xh8_wOly18Ay"
      }
    },
    {
      "cell_type": "code",
      "source": [
        "# importamos las librerias\n",
        "import pandas as pd\n",
        "import numpy as np\n",
        "import matplotlib.pyplot as plt\n",
        "import seaborn as sns"
      ],
      "metadata": {
        "id": "W6FJU6_512Iv"
      },
      "execution_count": 39,
      "outputs": []
    },
    {
      "cell_type": "code",
      "execution_count": 40,
      "metadata": {
        "id": "4zNDswI31vra"
      },
      "outputs": [],
      "source": [
        "# declaramos nuestros dataframes\n",
        "dfeua=pd.read_csv(\"California_EUA.csv\")\n",
        "dfmex=pd.read_csv(\"DF_Mexico.csv\")\n",
        "dfg=pd.read_csv(\"Girona_Espana.csv\", encoding= 'unicode_escape')"
      ]
    },
    {
      "cell_type": "code",
      "source": [
        "# sumamos el total de los nulos que tiene el data frame de California\n",
        "VN_eua=dfeua.isnull().sum().sum()\n",
        "VN_eua"
      ],
      "metadata": {
        "colab": {
          "base_uri": "https://localhost:8080/"
        },
        "id": "V9acZG2j4Qzq",
        "outputId": "6c6f0dae-dc1a-442c-d39a-bf992d1a2886"
      },
      "execution_count": 42,
      "outputs": [
        {
          "output_type": "execute_result",
          "data": {
            "text/plain": [
              "48877"
            ]
          },
          "metadata": {},
          "execution_count": 42
        }
      ]
    },
    {
      "cell_type": "code",
      "source": [
        "#reemplazamos los datos nulos del data fame de california\n",
        "#los datos float se reemplazan con un 0 pues considero que es mejor poner un 0 para indicar donde no tenemos informacion a poner un numero que altere el analisis\n",
        "float_cols = dfeua.select_dtypes(include=['float']).columns\n",
        "dfeua[float_cols] = dfeua[float_cols].fillna(value=0)\n",
        "#en las columnas que contienen datos objeto obte por señalar que no se cuenta informacion\n",
        "obj_cols = dfeua.select_dtypes(include=['object']).columns\n",
        "dfeua[obj_cols] = dfeua[obj_cols].fillna(value=\"sin información\")\n",
        "#nuevamente en estas columnas preferi usar un 0 que no cesge los datos posteriores\n",
        "int_cols = dfeua.select_dtypes(include=['int64']).columns\n",
        "dfeua[int_cols] = dfeua[int_cols].fillna(value=0)"
      ],
      "metadata": {
        "id": "G5rgnJHs5j99"
      },
      "execution_count": 43,
      "outputs": []
    },
    {
      "cell_type": "code",
      "source": [
        "VN_eua=dfeua.isnull().sum().sum()\n",
        "VN_eua"
      ],
      "metadata": {
        "colab": {
          "base_uri": "https://localhost:8080/"
        },
        "id": "9LFJRmbk7XPS",
        "outputId": "6992ae2c-7e2f-4b87-b321-84f41f4c2bc9"
      },
      "execution_count": 44,
      "outputs": [
        {
          "output_type": "execute_result",
          "data": {
            "text/plain": [
              "0"
            ]
          },
          "metadata": {},
          "execution_count": 44
        }
      ]
    },
    {
      "cell_type": "code",
      "source": [
        "dfeua.to_csv(\"dfeua SIN NULOS.csv\")\n",
        "from google.colab import files\n",
        "files.download(\"dfeua SIN NULOS.csv\")"
      ],
      "metadata": {
        "colab": {
          "base_uri": "https://localhost:8080/",
          "height": 17
        },
        "id": "JNx5HjOkH_Zm",
        "outputId": "6d8287fe-6823-4662-e1a5-ec66a1bb71d0"
      },
      "execution_count": 45,
      "outputs": [
        {
          "output_type": "display_data",
          "data": {
            "text/plain": [
              "<IPython.core.display.Javascript object>"
            ],
            "application/javascript": [
              "\n",
              "    async function download(id, filename, size) {\n",
              "      if (!google.colab.kernel.accessAllowed) {\n",
              "        return;\n",
              "      }\n",
              "      const div = document.createElement('div');\n",
              "      const label = document.createElement('label');\n",
              "      label.textContent = `Downloading \"${filename}\": `;\n",
              "      div.appendChild(label);\n",
              "      const progress = document.createElement('progress');\n",
              "      progress.max = size;\n",
              "      div.appendChild(progress);\n",
              "      document.body.appendChild(div);\n",
              "\n",
              "      const buffers = [];\n",
              "      let downloaded = 0;\n",
              "\n",
              "      const channel = await google.colab.kernel.comms.open(id);\n",
              "      // Send a message to notify the kernel that we're ready.\n",
              "      channel.send({})\n",
              "\n",
              "      for await (const message of channel.messages) {\n",
              "        // Send a message to notify the kernel that we're ready.\n",
              "        channel.send({})\n",
              "        if (message.buffers) {\n",
              "          for (const buffer of message.buffers) {\n",
              "            buffers.push(buffer);\n",
              "            downloaded += buffer.byteLength;\n",
              "            progress.value = downloaded;\n",
              "          }\n",
              "        }\n",
              "      }\n",
              "      const blob = new Blob(buffers, {type: 'application/binary'});\n",
              "      const a = document.createElement('a');\n",
              "      a.href = window.URL.createObjectURL(blob);\n",
              "      a.download = filename;\n",
              "      div.appendChild(a);\n",
              "      a.click();\n",
              "      div.remove();\n",
              "    }\n",
              "  "
            ]
          },
          "metadata": {}
        },
        {
          "output_type": "display_data",
          "data": {
            "text/plain": [
              "<IPython.core.display.Javascript object>"
            ],
            "application/javascript": [
              "download(\"download_fc914695-fbf2-4045-b468-d4794eb56596\", \"dfeua SIN NULOS.csv\", 20406637)"
            ]
          },
          "metadata": {}
        }
      ]
    },
    {
      "cell_type": "code",
      "source": [
        "VN_mex=dfmex.isnull().sum().sum()\n",
        "VN_mex"
      ],
      "metadata": {
        "id": "RPwqxS_N6BTL",
        "colab": {
          "base_uri": "https://localhost:8080/"
        },
        "outputId": "0705334e-51ca-40b9-8444-0403b328f024"
      },
      "execution_count": 46,
      "outputs": [
        {
          "output_type": "execute_result",
          "data": {
            "text/plain": [
              "189609"
            ]
          },
          "metadata": {},
          "execution_count": 46
        }
      ]
    },
    {
      "cell_type": "code",
      "source": [
        "#reemplazamos los datos nulos del data fame de california\n",
        "#los datos float se reemplazan con un 0 pues considero que es mejor poner un 0 para indicar donde no tenemos informacion a poner un numero que altere el analisis\n",
        "float_cols = dfmex.select_dtypes(include=['float']).columns\n",
        "dfmex[float_cols] = dfmex[float_cols].fillna(value=0)\n",
        "#en las columnas que contienen datos objeto obte por señalar que no se cuenta informacion\n",
        "obj_cols = dfmex.select_dtypes(include=['object']).columns\n",
        "dfmex[obj_cols] = dfmex[obj_cols].fillna(value=\"sin información\")\n",
        "#nuevamente en estas columnas preferi usar un 0 que no cesge los datos posteriores\n",
        "int_cols = dfmex.select_dtypes(include=['int64']).columns\n",
        "dfmex[int_cols] = dfmex[int_cols].fillna(value=0)"
      ],
      "metadata": {
        "id": "XQwsA8n756NU"
      },
      "execution_count": 47,
      "outputs": []
    },
    {
      "cell_type": "code",
      "source": [
        "VN_mex=dfmex.isnull().sum().sum()\n",
        "VN_mex"
      ],
      "metadata": {
        "id": "g83QyAW0-dZU",
        "colab": {
          "base_uri": "https://localhost:8080/"
        },
        "outputId": "4846dff3-68e0-4f69-a896-f52c5ddfa3fa"
      },
      "execution_count": 48,
      "outputs": [
        {
          "output_type": "execute_result",
          "data": {
            "text/plain": [
              "0"
            ]
          },
          "metadata": {},
          "execution_count": 48
        }
      ]
    },
    {
      "cell_type": "code",
      "source": [
        "dfmex.to_csv(\"dfmex SIN NULOS.csv\")\n",
        "from google.colab import files\n",
        "files.download(\"dfmex SIN NULOS.csv\")"
      ],
      "metadata": {
        "colab": {
          "base_uri": "https://localhost:8080/",
          "height": 17
        },
        "id": "DbCeHOAsB5nl",
        "outputId": "4784abc7-c07a-48d8-afd6-62a3db23c8e8"
      },
      "execution_count": 49,
      "outputs": [
        {
          "output_type": "display_data",
          "data": {
            "text/plain": [
              "<IPython.core.display.Javascript object>"
            ],
            "application/javascript": [
              "\n",
              "    async function download(id, filename, size) {\n",
              "      if (!google.colab.kernel.accessAllowed) {\n",
              "        return;\n",
              "      }\n",
              "      const div = document.createElement('div');\n",
              "      const label = document.createElement('label');\n",
              "      label.textContent = `Downloading \"${filename}\": `;\n",
              "      div.appendChild(label);\n",
              "      const progress = document.createElement('progress');\n",
              "      progress.max = size;\n",
              "      div.appendChild(progress);\n",
              "      document.body.appendChild(div);\n",
              "\n",
              "      const buffers = [];\n",
              "      let downloaded = 0;\n",
              "\n",
              "      const channel = await google.colab.kernel.comms.open(id);\n",
              "      // Send a message to notify the kernel that we're ready.\n",
              "      channel.send({})\n",
              "\n",
              "      for await (const message of channel.messages) {\n",
              "        // Send a message to notify the kernel that we're ready.\n",
              "        channel.send({})\n",
              "        if (message.buffers) {\n",
              "          for (const buffer of message.buffers) {\n",
              "            buffers.push(buffer);\n",
              "            downloaded += buffer.byteLength;\n",
              "            progress.value = downloaded;\n",
              "          }\n",
              "        }\n",
              "      }\n",
              "      const blob = new Blob(buffers, {type: 'application/binary'});\n",
              "      const a = document.createElement('a');\n",
              "      a.href = window.URL.createObjectURL(blob);\n",
              "      a.download = filename;\n",
              "      div.appendChild(a);\n",
              "      a.click();\n",
              "      div.remove();\n",
              "    }\n",
              "  "
            ]
          },
          "metadata": {}
        },
        {
          "output_type": "display_data",
          "data": {
            "text/plain": [
              "<IPython.core.display.Javascript object>"
            ],
            "application/javascript": [
              "download(\"download_204503a7-348a-4542-be8a-a6aac2492989\", \"dfmex SIN NULOS.csv\", 62497399)"
            ]
          },
          "metadata": {}
        }
      ]
    },
    {
      "cell_type": "code",
      "source": [
        "VN_g=dfg.isnull().sum().sum()\n",
        "VN_g"
      ],
      "metadata": {
        "id": "e26QBhGm6Hyf",
        "colab": {
          "base_uri": "https://localhost:8080/"
        },
        "outputId": "82925c75-6d08-4669-bd56-42547d43bfd8"
      },
      "execution_count": 52,
      "outputs": [
        {
          "output_type": "execute_result",
          "data": {
            "text/plain": [
              "22721"
            ]
          },
          "metadata": {},
          "execution_count": 52
        }
      ]
    },
    {
      "cell_type": "code",
      "source": [
        "#reemplazamos los datos nulos del data fame de california\n",
        "#los datos float se reemplazan con un 0 pues considero que es mejor poner un 0 para indicar donde no tenemos informacion a poner un numero que altere el analisis\n",
        "float_cols = dfg.select_dtypes(include=['float']).columns\n",
        "dfg[float_cols] = dfg[float_cols].fillna(value=0)\n",
        "#en las columnas que contienen datos objeto obte por señalar que no se cuenta informacion\n",
        "obj_cols = dfg.select_dtypes(include=['object']).columns\n",
        "dfg[obj_cols] = dfg[obj_cols].fillna(value=\"sin información\")\n",
        "#nuevamente en estas columnas preferi usar un 0 que no cesge los datos posteriores\n",
        "int_cols = dfg.select_dtypes(include=['int64']).columns\n",
        "dfg[int_cols] = dfg[int_cols].fillna(value=0)"
      ],
      "metadata": {
        "id": "fqA0nBhX57jB"
      },
      "execution_count": 53,
      "outputs": []
    },
    {
      "cell_type": "code",
      "source": [
        "VN_g=dfg.isnull().sum().sum()\n",
        "VN_g"
      ],
      "metadata": {
        "id": "lc4UrDm1-fQ_",
        "colab": {
          "base_uri": "https://localhost:8080/"
        },
        "outputId": "c7ca5163-a895-416a-c139-194db24c43c4"
      },
      "execution_count": 54,
      "outputs": [
        {
          "output_type": "execute_result",
          "data": {
            "text/plain": [
              "0"
            ]
          },
          "metadata": {},
          "execution_count": 54
        }
      ]
    },
    {
      "cell_type": "markdown",
      "source": [
        "###Rango intercuartilico California"
      ],
      "metadata": {
        "id": "o8Mn1tvLJQOh"
      }
    },
    {
      "cell_type": "code",
      "source": [
        "nonumericos = dfeua.select_dtypes(exclude=['object'])\n",
        "\n",
        "# Eliminar las columnas seleccionadas\n",
        "data4 = dfeua.drop(nonumericos.columns, axis=1)"
      ],
      "metadata": {
        "id": "G-XZSWHkCARJ"
      },
      "execution_count": 70,
      "outputs": []
    },
    {
      "cell_type": "code",
      "source": [
        "y=data4\n",
        "\n",
        "percentile25=y.quantile(0.25, numeric_only=True) #Q1\n",
        "percentile75=y.quantile(0.75, numeric_only=True) #Q3\n",
        "iqr= percentile75 - percentile25\n",
        "\n",
        "Limite_Superior_iqr= percentile75 + 1.5*iqr\n",
        "Limite_Inferior_iqr= percentile25 - 1.5*iqr\n",
        "print(\"Limite superior permitido\", Limite_Superior_iqr)\n",
        "print(\"Limite inferior permitido\", Limite_Inferior_iqr)"
      ],
      "metadata": {
        "colab": {
          "base_uri": "https://localhost:8080/"
        },
        "id": "wjCmxZ_oC63P",
        "outputId": "694ec95c-571b-4804-f411-eaa9e8f85678"
      },
      "execution_count": 77,
      "outputs": [
        {
          "output_type": "stream",
          "name": "stdout",
          "text": [
            "Limite superior permitido Series([], dtype: float64)\n",
            "Limite inferior permitido Series([], dtype: float64)\n"
          ]
        }
      ]
    },
    {
      "cell_type": "code",
      "source": [
        "#Encontramos Outliers del Dataframe\n",
        "outliers_iqr= data4[(y>Limite_Superior_iqr)|(y<Limite_Inferior_iqr)]\n",
        "#Obtenemos datos limpios del Dataframe\n",
        "data3_iqr= data4[(y<=Limite_Superior_iqr)&(y>=Limite_Inferior_iqr)]"
      ],
      "metadata": {
        "colab": {
          "base_uri": "https://localhost:8080/"
        },
        "id": "vbarPJQTC_fN",
        "outputId": "75ffbf51-1cc5-4498-de17-c9071c43e405"
      },
      "execution_count": 72,
      "outputs": [
        {
          "output_type": "stream",
          "name": "stderr",
          "text": [
            "<ipython-input-72-71eec20d6574>:2: FutureWarning: Automatic reindexing on DataFrame vs Series comparisons is deprecated and will raise ValueError in a future version. Do `left, right = left.align(right, axis=1, copy=False)` before e.g. `left == right`\n",
            "  outliers_iqr= data4[(y>Limite_Superior_iqr)|(y<Limite_Inferior_iqr)]\n",
            "<ipython-input-72-71eec20d6574>:4: FutureWarning: Automatic reindexing on DataFrame vs Series comparisons is deprecated and will raise ValueError in a future version. Do `left, right = left.align(right, axis=1, copy=False)` before e.g. `left == right`\n",
            "  data3_iqr= data4[(y<=Limite_Superior_iqr)&(y>=Limite_Inferior_iqr)]\n"
          ]
        }
      ]
    },
    {
      "cell_type": "code",
      "source": [
        "#Corroboramos valores nulos del dataframe LIMPIO\n",
        "valores_nulos=data3_iqr.isnull().sum().sum()\n",
        "valores_nulos"
      ],
      "metadata": {
        "colab": {
          "base_uri": "https://localhost:8080/"
        },
        "id": "Ayn86gfuFtfd",
        "outputId": "f93a7896-50f2-4343-d6e1-d5ada7e6b0e2"
      },
      "execution_count": 76,
      "outputs": [
        {
          "output_type": "execute_result",
          "data": {
            "text/plain": [
              "242760"
            ]
          },
          "metadata": {},
          "execution_count": 76
        }
      ]
    },
    {
      "cell_type": "code",
      "source": [
        "#Reemplazamos valores atípicos (nulos) del dataframe con \"mean\"\n",
        "#Realizamos una copia del dataframe\n",
        "data5_iqr=data3_iqr.copy()\n",
        "data5_iqr=data5_iqr.fillna(round(data3_iqr.mean(),1))"
      ],
      "metadata": {
        "id": "cwfWWHVaFzvN"
      },
      "execution_count": 74,
      "outputs": []
    },
    {
      "cell_type": "code",
      "source": [
        "datos_obj=nonumericos\n",
        "Datos_limpios = pd.concat([datos_obj, data5_iqr], axis=1)\n",
        "Datos_limpios.head()"
      ],
      "metadata": {
        "colab": {
          "base_uri": "https://localhost:8080/",
          "height": 297
        },
        "id": "TUnxEBf2F8F0",
        "outputId": "c3712cd0-92ff-4303-f38b-cb92812803e2"
      },
      "execution_count": 75,
      "outputs": [
        {
          "output_type": "execute_result",
          "data": {
            "text/plain": [
              "       id     scrape_id  host_id  host_listings_count  \\\n",
              "0   958.0  2.020000e+13     1169                    1   \n",
              "1  5858.0  2.020000e+13     8904                    2   \n",
              "2  8142.0  2.020000e+13    21994                   13   \n",
              "3  8339.0  2.020000e+13    24215                    2   \n",
              "4  8739.0  2.020000e+13     7149                    2   \n",
              "\n",
              "   host_total_listings_count  neighbourhood_group_cleansed  latitude  \\\n",
              "0                          1                           0.0  37.77028   \n",
              "1                          2                           0.0  37.74474   \n",
              "2                         14                           0.0  37.76555   \n",
              "3                          6                           0.0  37.77564   \n",
              "4                          2                           0.0  37.76030   \n",
              "\n",
              "   longitude  accommodates  bathrooms  ...  room_type  bathrooms_text  \\\n",
              "0 -122.43317             3        0.0  ...        NaN             NaN   \n",
              "1 -122.42089             4        0.0  ...        NaN             NaN   \n",
              "2 -122.45213             1        0.0  ...        NaN             NaN   \n",
              "3 -122.43642             4        0.0  ...        NaN             NaN   \n",
              "4 -122.42197             3        0.0  ...        NaN             NaN   \n",
              "\n",
              "   amenities  price  has_availability  calendar_last_scraped  first_review  \\\n",
              "0        NaN    NaN               NaN                    NaN           NaN   \n",
              "1        NaN    NaN               NaN                    NaN           NaN   \n",
              "2        NaN    NaN               NaN                    NaN           NaN   \n",
              "3        NaN    NaN               NaN                    NaN           NaN   \n",
              "4        NaN    NaN               NaN                    NaN           NaN   \n",
              "\n",
              "   last_review  license  instant_bookable  \n",
              "0          NaN      NaN               NaN  \n",
              "1          NaN      NaN               NaN  \n",
              "2          NaN      NaN               NaN  \n",
              "3          NaN      NaN               NaN  \n",
              "4          NaN      NaN               NaN  \n",
              "\n",
              "[5 rows x 75 columns]"
            ],
            "text/html": [
              "\n",
              "  <div id=\"df-4d83bbd4-47de-43fb-96ee-65cd44d89c50\">\n",
              "    <div class=\"colab-df-container\">\n",
              "      <div>\n",
              "<style scoped>\n",
              "    .dataframe tbody tr th:only-of-type {\n",
              "        vertical-align: middle;\n",
              "    }\n",
              "\n",
              "    .dataframe tbody tr th {\n",
              "        vertical-align: top;\n",
              "    }\n",
              "\n",
              "    .dataframe thead th {\n",
              "        text-align: right;\n",
              "    }\n",
              "</style>\n",
              "<table border=\"1\" class=\"dataframe\">\n",
              "  <thead>\n",
              "    <tr style=\"text-align: right;\">\n",
              "      <th></th>\n",
              "      <th>id</th>\n",
              "      <th>scrape_id</th>\n",
              "      <th>host_id</th>\n",
              "      <th>host_listings_count</th>\n",
              "      <th>host_total_listings_count</th>\n",
              "      <th>neighbourhood_group_cleansed</th>\n",
              "      <th>latitude</th>\n",
              "      <th>longitude</th>\n",
              "      <th>accommodates</th>\n",
              "      <th>bathrooms</th>\n",
              "      <th>...</th>\n",
              "      <th>room_type</th>\n",
              "      <th>bathrooms_text</th>\n",
              "      <th>amenities</th>\n",
              "      <th>price</th>\n",
              "      <th>has_availability</th>\n",
              "      <th>calendar_last_scraped</th>\n",
              "      <th>first_review</th>\n",
              "      <th>last_review</th>\n",
              "      <th>license</th>\n",
              "      <th>instant_bookable</th>\n",
              "    </tr>\n",
              "  </thead>\n",
              "  <tbody>\n",
              "    <tr>\n",
              "      <th>0</th>\n",
              "      <td>958.0</td>\n",
              "      <td>2.020000e+13</td>\n",
              "      <td>1169</td>\n",
              "      <td>1</td>\n",
              "      <td>1</td>\n",
              "      <td>0.0</td>\n",
              "      <td>37.77028</td>\n",
              "      <td>-122.43317</td>\n",
              "      <td>3</td>\n",
              "      <td>0.0</td>\n",
              "      <td>...</td>\n",
              "      <td>NaN</td>\n",
              "      <td>NaN</td>\n",
              "      <td>NaN</td>\n",
              "      <td>NaN</td>\n",
              "      <td>NaN</td>\n",
              "      <td>NaN</td>\n",
              "      <td>NaN</td>\n",
              "      <td>NaN</td>\n",
              "      <td>NaN</td>\n",
              "      <td>NaN</td>\n",
              "    </tr>\n",
              "    <tr>\n",
              "      <th>1</th>\n",
              "      <td>5858.0</td>\n",
              "      <td>2.020000e+13</td>\n",
              "      <td>8904</td>\n",
              "      <td>2</td>\n",
              "      <td>2</td>\n",
              "      <td>0.0</td>\n",
              "      <td>37.74474</td>\n",
              "      <td>-122.42089</td>\n",
              "      <td>4</td>\n",
              "      <td>0.0</td>\n",
              "      <td>...</td>\n",
              "      <td>NaN</td>\n",
              "      <td>NaN</td>\n",
              "      <td>NaN</td>\n",
              "      <td>NaN</td>\n",
              "      <td>NaN</td>\n",
              "      <td>NaN</td>\n",
              "      <td>NaN</td>\n",
              "      <td>NaN</td>\n",
              "      <td>NaN</td>\n",
              "      <td>NaN</td>\n",
              "    </tr>\n",
              "    <tr>\n",
              "      <th>2</th>\n",
              "      <td>8142.0</td>\n",
              "      <td>2.020000e+13</td>\n",
              "      <td>21994</td>\n",
              "      <td>13</td>\n",
              "      <td>14</td>\n",
              "      <td>0.0</td>\n",
              "      <td>37.76555</td>\n",
              "      <td>-122.45213</td>\n",
              "      <td>1</td>\n",
              "      <td>0.0</td>\n",
              "      <td>...</td>\n",
              "      <td>NaN</td>\n",
              "      <td>NaN</td>\n",
              "      <td>NaN</td>\n",
              "      <td>NaN</td>\n",
              "      <td>NaN</td>\n",
              "      <td>NaN</td>\n",
              "      <td>NaN</td>\n",
              "      <td>NaN</td>\n",
              "      <td>NaN</td>\n",
              "      <td>NaN</td>\n",
              "    </tr>\n",
              "    <tr>\n",
              "      <th>3</th>\n",
              "      <td>8339.0</td>\n",
              "      <td>2.020000e+13</td>\n",
              "      <td>24215</td>\n",
              "      <td>2</td>\n",
              "      <td>6</td>\n",
              "      <td>0.0</td>\n",
              "      <td>37.77564</td>\n",
              "      <td>-122.43642</td>\n",
              "      <td>4</td>\n",
              "      <td>0.0</td>\n",
              "      <td>...</td>\n",
              "      <td>NaN</td>\n",
              "      <td>NaN</td>\n",
              "      <td>NaN</td>\n",
              "      <td>NaN</td>\n",
              "      <td>NaN</td>\n",
              "      <td>NaN</td>\n",
              "      <td>NaN</td>\n",
              "      <td>NaN</td>\n",
              "      <td>NaN</td>\n",
              "      <td>NaN</td>\n",
              "    </tr>\n",
              "    <tr>\n",
              "      <th>4</th>\n",
              "      <td>8739.0</td>\n",
              "      <td>2.020000e+13</td>\n",
              "      <td>7149</td>\n",
              "      <td>2</td>\n",
              "      <td>2</td>\n",
              "      <td>0.0</td>\n",
              "      <td>37.76030</td>\n",
              "      <td>-122.42197</td>\n",
              "      <td>3</td>\n",
              "      <td>0.0</td>\n",
              "      <td>...</td>\n",
              "      <td>NaN</td>\n",
              "      <td>NaN</td>\n",
              "      <td>NaN</td>\n",
              "      <td>NaN</td>\n",
              "      <td>NaN</td>\n",
              "      <td>NaN</td>\n",
              "      <td>NaN</td>\n",
              "      <td>NaN</td>\n",
              "      <td>NaN</td>\n",
              "      <td>NaN</td>\n",
              "    </tr>\n",
              "  </tbody>\n",
              "</table>\n",
              "<p>5 rows × 75 columns</p>\n",
              "</div>\n",
              "      <button class=\"colab-df-convert\" onclick=\"convertToInteractive('df-4d83bbd4-47de-43fb-96ee-65cd44d89c50')\"\n",
              "              title=\"Convert this dataframe to an interactive table.\"\n",
              "              style=\"display:none;\">\n",
              "        \n",
              "  <svg xmlns=\"http://www.w3.org/2000/svg\" height=\"24px\"viewBox=\"0 0 24 24\"\n",
              "       width=\"24px\">\n",
              "    <path d=\"M0 0h24v24H0V0z\" fill=\"none\"/>\n",
              "    <path d=\"M18.56 5.44l.94 2.06.94-2.06 2.06-.94-2.06-.94-.94-2.06-.94 2.06-2.06.94zm-11 1L8.5 8.5l.94-2.06 2.06-.94-2.06-.94L8.5 2.5l-.94 2.06-2.06.94zm10 10l.94 2.06.94-2.06 2.06-.94-2.06-.94-.94-2.06-.94 2.06-2.06.94z\"/><path d=\"M17.41 7.96l-1.37-1.37c-.4-.4-.92-.59-1.43-.59-.52 0-1.04.2-1.43.59L10.3 9.45l-7.72 7.72c-.78.78-.78 2.05 0 2.83L4 21.41c.39.39.9.59 1.41.59.51 0 1.02-.2 1.41-.59l7.78-7.78 2.81-2.81c.8-.78.8-2.07 0-2.86zM5.41 20L4 18.59l7.72-7.72 1.47 1.35L5.41 20z\"/>\n",
              "  </svg>\n",
              "      </button>\n",
              "      \n",
              "  <style>\n",
              "    .colab-df-container {\n",
              "      display:flex;\n",
              "      flex-wrap:wrap;\n",
              "      gap: 12px;\n",
              "    }\n",
              "\n",
              "    .colab-df-convert {\n",
              "      background-color: #E8F0FE;\n",
              "      border: none;\n",
              "      border-radius: 50%;\n",
              "      cursor: pointer;\n",
              "      display: none;\n",
              "      fill: #1967D2;\n",
              "      height: 32px;\n",
              "      padding: 0 0 0 0;\n",
              "      width: 32px;\n",
              "    }\n",
              "\n",
              "    .colab-df-convert:hover {\n",
              "      background-color: #E2EBFA;\n",
              "      box-shadow: 0px 1px 2px rgba(60, 64, 67, 0.3), 0px 1px 3px 1px rgba(60, 64, 67, 0.15);\n",
              "      fill: #174EA6;\n",
              "    }\n",
              "\n",
              "    [theme=dark] .colab-df-convert {\n",
              "      background-color: #3B4455;\n",
              "      fill: #D2E3FC;\n",
              "    }\n",
              "\n",
              "    [theme=dark] .colab-df-convert:hover {\n",
              "      background-color: #434B5C;\n",
              "      box-shadow: 0px 1px 3px 1px rgba(0, 0, 0, 0.15);\n",
              "      filter: drop-shadow(0px 1px 2px rgba(0, 0, 0, 0.3));\n",
              "      fill: #FFFFFF;\n",
              "    }\n",
              "  </style>\n",
              "\n",
              "      <script>\n",
              "        const buttonEl =\n",
              "          document.querySelector('#df-4d83bbd4-47de-43fb-96ee-65cd44d89c50 button.colab-df-convert');\n",
              "        buttonEl.style.display =\n",
              "          google.colab.kernel.accessAllowed ? 'block' : 'none';\n",
              "\n",
              "        async function convertToInteractive(key) {\n",
              "          const element = document.querySelector('#df-4d83bbd4-47de-43fb-96ee-65cd44d89c50');\n",
              "          const dataTable =\n",
              "            await google.colab.kernel.invokeFunction('convertToInteractive',\n",
              "                                                     [key], {});\n",
              "          if (!dataTable) return;\n",
              "\n",
              "          const docLinkHtml = 'Like what you see? Visit the ' +\n",
              "            '<a target=\"_blank\" href=https://colab.research.google.com/notebooks/data_table.ipynb>data table notebook</a>'\n",
              "            + ' to learn more about interactive tables.';\n",
              "          element.innerHTML = '';\n",
              "          dataTable['output_type'] = 'display_data';\n",
              "          await google.colab.output.renderOutput(dataTable, element);\n",
              "          const docLink = document.createElement('div');\n",
              "          docLink.innerHTML = docLinkHtml;\n",
              "          element.appendChild(docLink);\n",
              "        }\n",
              "      </script>\n",
              "    </div>\n",
              "  </div>\n",
              "  "
            ]
          },
          "metadata": {},
          "execution_count": 75
        }
      ]
    },
    {
      "cell_type": "markdown",
      "source": [
        "###Rango intercuartilico Mex"
      ],
      "metadata": {
        "id": "NZaCO3f8T-sG"
      }
    },
    {
      "cell_type": "code",
      "source": [
        "nonumericos = dfmex.select_dtypes(exclude=['object'])\n",
        "\n",
        "# Eliminar las columnas seleccionadas\n",
        "data4 = dfmex.drop(nonumericos.columns, axis=1)"
      ],
      "metadata": {
        "id": "V3C8nRE8T-sR"
      },
      "execution_count": 84,
      "outputs": []
    },
    {
      "cell_type": "code",
      "source": [
        "y=data4\n",
        "\n",
        "percentile25=y.quantile(0.25, numeric_only=True) #Q1\n",
        "percentile75=y.quantile(0.75, numeric_only=True) #Q3\n",
        "iqr= percentile75 - percentile25\n",
        "\n",
        "Limite_Superior_iqr= percentile75 + 1.5*iqr\n",
        "Limite_Inferior_iqr= percentile25 - 1.5*iqr\n",
        "print(\"Limite superior permitido\", Limite_Superior_iqr)\n",
        "print(\"Limite inferior permitido\", Limite_Inferior_iqr)"
      ],
      "metadata": {
        "colab": {
          "base_uri": "https://localhost:8080/"
        },
        "outputId": "777f0439-a333-43af-e0a3-3fa2b730ddb1",
        "id": "PX7QWCF3T-sT"
      },
      "execution_count": 85,
      "outputs": [
        {
          "output_type": "stream",
          "name": "stdout",
          "text": [
            "Limite superior permitido Series([], dtype: float64)\n",
            "Limite inferior permitido Series([], dtype: float64)\n"
          ]
        }
      ]
    },
    {
      "cell_type": "code",
      "source": [
        "#Encontramos Outliers del Dataframe\n",
        "outliers_iqr= data4[(y>Limite_Superior_iqr)|(y<Limite_Inferior_iqr)]\n",
        "#Obtenemos datos limpios del Dataframe\n",
        "data3_iqr= data4[(y<=Limite_Superior_iqr)&(y>=Limite_Inferior_iqr)]"
      ],
      "metadata": {
        "colab": {
          "base_uri": "https://localhost:8080/"
        },
        "outputId": "e40a6cf3-74fc-4012-e032-dd91e60aca45",
        "id": "hiE7rx7dT-sV"
      },
      "execution_count": 80,
      "outputs": [
        {
          "output_type": "stream",
          "name": "stderr",
          "text": [
            "<ipython-input-80-71eec20d6574>:2: FutureWarning: Automatic reindexing on DataFrame vs Series comparisons is deprecated and will raise ValueError in a future version. Do `left, right = left.align(right, axis=1, copy=False)` before e.g. `left == right`\n",
            "  outliers_iqr= data4[(y>Limite_Superior_iqr)|(y<Limite_Inferior_iqr)]\n",
            "<ipython-input-80-71eec20d6574>:4: FutureWarning: Automatic reindexing on DataFrame vs Series comparisons is deprecated and will raise ValueError in a future version. Do `left, right = left.align(right, axis=1, copy=False)` before e.g. `left == right`\n",
            "  data3_iqr= data4[(y<=Limite_Superior_iqr)&(y>=Limite_Inferior_iqr)]\n"
          ]
        }
      ]
    },
    {
      "cell_type": "code",
      "source": [
        "#Corroboramos valores nulos del dataframe LIMPIO\n",
        "valores_nulos=data3_iqr.isnull().sum().sum()\n",
        "valores_nulos"
      ],
      "metadata": {
        "colab": {
          "base_uri": "https://localhost:8080/"
        },
        "outputId": "9bb671d3-b11c-43ee-b203-13e5b45de660",
        "id": "lZu0TvrgT-sW"
      },
      "execution_count": 81,
      "outputs": [
        {
          "output_type": "execute_result",
          "data": {
            "text/plain": [
              "235824"
            ]
          },
          "metadata": {},
          "execution_count": 81
        }
      ]
    },
    {
      "cell_type": "code",
      "source": [
        "#Reemplazamos valores atípicos (nulos) del dataframe con \"mean\"\n",
        "#Realizamos una copia del dataframe\n",
        "data5_iqr=data3_iqr.copy()\n",
        "data5_iqr=data5_iqr.fillna(round(data3_iqr.mean(),1))"
      ],
      "metadata": {
        "id": "zK0GVDERT-sX"
      },
      "execution_count": 82,
      "outputs": []
    },
    {
      "cell_type": "code",
      "source": [
        "datos_obj=nonumericos\n",
        "Datos_limpios = pd.concat([datos_obj, data5_iqr], axis=1)\n",
        "Datos_limpios.head()"
      ],
      "metadata": {
        "colab": {
          "base_uri": "https://localhost:8080/",
          "height": 297
        },
        "outputId": "dd453324-c619-43bc-d13b-c59d879f34e8",
        "id": "XnvorIv7T-sZ"
      },
      "execution_count": 83,
      "outputs": [
        {
          "output_type": "execute_result",
          "data": {
            "text/plain": [
              "        id       scrape_id   host_id  host_listings_count  \\\n",
              "0  2056638  20230329041210  10531228                    3   \n",
              "1  2072354  20230329041210  16840050                    3   \n",
              "2   696037  20230329041210   3531879                    4   \n",
              "3    35797  20230329041210    153786                    1   \n",
              "4    44616  20230329041210    196253                   16   \n",
              "\n",
              "   host_total_listings_count  neighbourhood_group_cleansed  latitude  \\\n",
              "0                          7                           0.0  19.35353   \n",
              "1                          3                           0.0  19.35358   \n",
              "2                          4                           0.0  19.44180   \n",
              "3                          1                           0.0  19.38283   \n",
              "4                         16                           0.0  19.41162   \n",
              "\n",
              "   longitude  accommodates  bathrooms  ...  property_type  room_type  \\\n",
              "0  -99.16299             3        0.0  ...            NaN        NaN   \n",
              "1  -99.16948             2        0.0  ...            NaN        NaN   \n",
              "2  -99.18402             6        0.0  ...            NaN        NaN   \n",
              "3  -99.27178             2        0.0  ...            NaN        NaN   \n",
              "4  -99.17794            14        0.0  ...            NaN        NaN   \n",
              "\n",
              "   bathrooms_text  amenities  price  has_availability  calendar_last_scraped  \\\n",
              "0             NaN        NaN    NaN               NaN                    NaN   \n",
              "1             NaN        NaN    NaN               NaN                    NaN   \n",
              "2             NaN        NaN    NaN               NaN                    NaN   \n",
              "3             NaN        NaN    NaN               NaN                    NaN   \n",
              "4             NaN        NaN    NaN               NaN                    NaN   \n",
              "\n",
              "   first_review  last_review  instant_bookable  \n",
              "0           NaN          NaN               NaN  \n",
              "1           NaN          NaN               NaN  \n",
              "2           NaN          NaN               NaN  \n",
              "3           NaN          NaN               NaN  \n",
              "4           NaN          NaN               NaN  \n",
              "\n",
              "[5 rows x 75 columns]"
            ],
            "text/html": [
              "\n",
              "  <div id=\"df-9ac36d0c-cf19-49fa-8f58-7fbc0e3c8f0e\">\n",
              "    <div class=\"colab-df-container\">\n",
              "      <div>\n",
              "<style scoped>\n",
              "    .dataframe tbody tr th:only-of-type {\n",
              "        vertical-align: middle;\n",
              "    }\n",
              "\n",
              "    .dataframe tbody tr th {\n",
              "        vertical-align: top;\n",
              "    }\n",
              "\n",
              "    .dataframe thead th {\n",
              "        text-align: right;\n",
              "    }\n",
              "</style>\n",
              "<table border=\"1\" class=\"dataframe\">\n",
              "  <thead>\n",
              "    <tr style=\"text-align: right;\">\n",
              "      <th></th>\n",
              "      <th>id</th>\n",
              "      <th>scrape_id</th>\n",
              "      <th>host_id</th>\n",
              "      <th>host_listings_count</th>\n",
              "      <th>host_total_listings_count</th>\n",
              "      <th>neighbourhood_group_cleansed</th>\n",
              "      <th>latitude</th>\n",
              "      <th>longitude</th>\n",
              "      <th>accommodates</th>\n",
              "      <th>bathrooms</th>\n",
              "      <th>...</th>\n",
              "      <th>property_type</th>\n",
              "      <th>room_type</th>\n",
              "      <th>bathrooms_text</th>\n",
              "      <th>amenities</th>\n",
              "      <th>price</th>\n",
              "      <th>has_availability</th>\n",
              "      <th>calendar_last_scraped</th>\n",
              "      <th>first_review</th>\n",
              "      <th>last_review</th>\n",
              "      <th>instant_bookable</th>\n",
              "    </tr>\n",
              "  </thead>\n",
              "  <tbody>\n",
              "    <tr>\n",
              "      <th>0</th>\n",
              "      <td>2056638</td>\n",
              "      <td>20230329041210</td>\n",
              "      <td>10531228</td>\n",
              "      <td>3</td>\n",
              "      <td>7</td>\n",
              "      <td>0.0</td>\n",
              "      <td>19.35353</td>\n",
              "      <td>-99.16299</td>\n",
              "      <td>3</td>\n",
              "      <td>0.0</td>\n",
              "      <td>...</td>\n",
              "      <td>NaN</td>\n",
              "      <td>NaN</td>\n",
              "      <td>NaN</td>\n",
              "      <td>NaN</td>\n",
              "      <td>NaN</td>\n",
              "      <td>NaN</td>\n",
              "      <td>NaN</td>\n",
              "      <td>NaN</td>\n",
              "      <td>NaN</td>\n",
              "      <td>NaN</td>\n",
              "    </tr>\n",
              "    <tr>\n",
              "      <th>1</th>\n",
              "      <td>2072354</td>\n",
              "      <td>20230329041210</td>\n",
              "      <td>16840050</td>\n",
              "      <td>3</td>\n",
              "      <td>3</td>\n",
              "      <td>0.0</td>\n",
              "      <td>19.35358</td>\n",
              "      <td>-99.16948</td>\n",
              "      <td>2</td>\n",
              "      <td>0.0</td>\n",
              "      <td>...</td>\n",
              "      <td>NaN</td>\n",
              "      <td>NaN</td>\n",
              "      <td>NaN</td>\n",
              "      <td>NaN</td>\n",
              "      <td>NaN</td>\n",
              "      <td>NaN</td>\n",
              "      <td>NaN</td>\n",
              "      <td>NaN</td>\n",
              "      <td>NaN</td>\n",
              "      <td>NaN</td>\n",
              "    </tr>\n",
              "    <tr>\n",
              "      <th>2</th>\n",
              "      <td>696037</td>\n",
              "      <td>20230329041210</td>\n",
              "      <td>3531879</td>\n",
              "      <td>4</td>\n",
              "      <td>4</td>\n",
              "      <td>0.0</td>\n",
              "      <td>19.44180</td>\n",
              "      <td>-99.18402</td>\n",
              "      <td>6</td>\n",
              "      <td>0.0</td>\n",
              "      <td>...</td>\n",
              "      <td>NaN</td>\n",
              "      <td>NaN</td>\n",
              "      <td>NaN</td>\n",
              "      <td>NaN</td>\n",
              "      <td>NaN</td>\n",
              "      <td>NaN</td>\n",
              "      <td>NaN</td>\n",
              "      <td>NaN</td>\n",
              "      <td>NaN</td>\n",
              "      <td>NaN</td>\n",
              "    </tr>\n",
              "    <tr>\n",
              "      <th>3</th>\n",
              "      <td>35797</td>\n",
              "      <td>20230329041210</td>\n",
              "      <td>153786</td>\n",
              "      <td>1</td>\n",
              "      <td>1</td>\n",
              "      <td>0.0</td>\n",
              "      <td>19.38283</td>\n",
              "      <td>-99.27178</td>\n",
              "      <td>2</td>\n",
              "      <td>0.0</td>\n",
              "      <td>...</td>\n",
              "      <td>NaN</td>\n",
              "      <td>NaN</td>\n",
              "      <td>NaN</td>\n",
              "      <td>NaN</td>\n",
              "      <td>NaN</td>\n",
              "      <td>NaN</td>\n",
              "      <td>NaN</td>\n",
              "      <td>NaN</td>\n",
              "      <td>NaN</td>\n",
              "      <td>NaN</td>\n",
              "    </tr>\n",
              "    <tr>\n",
              "      <th>4</th>\n",
              "      <td>44616</td>\n",
              "      <td>20230329041210</td>\n",
              "      <td>196253</td>\n",
              "      <td>16</td>\n",
              "      <td>16</td>\n",
              "      <td>0.0</td>\n",
              "      <td>19.41162</td>\n",
              "      <td>-99.17794</td>\n",
              "      <td>14</td>\n",
              "      <td>0.0</td>\n",
              "      <td>...</td>\n",
              "      <td>NaN</td>\n",
              "      <td>NaN</td>\n",
              "      <td>NaN</td>\n",
              "      <td>NaN</td>\n",
              "      <td>NaN</td>\n",
              "      <td>NaN</td>\n",
              "      <td>NaN</td>\n",
              "      <td>NaN</td>\n",
              "      <td>NaN</td>\n",
              "      <td>NaN</td>\n",
              "    </tr>\n",
              "  </tbody>\n",
              "</table>\n",
              "<p>5 rows × 75 columns</p>\n",
              "</div>\n",
              "      <button class=\"colab-df-convert\" onclick=\"convertToInteractive('df-9ac36d0c-cf19-49fa-8f58-7fbc0e3c8f0e')\"\n",
              "              title=\"Convert this dataframe to an interactive table.\"\n",
              "              style=\"display:none;\">\n",
              "        \n",
              "  <svg xmlns=\"http://www.w3.org/2000/svg\" height=\"24px\"viewBox=\"0 0 24 24\"\n",
              "       width=\"24px\">\n",
              "    <path d=\"M0 0h24v24H0V0z\" fill=\"none\"/>\n",
              "    <path d=\"M18.56 5.44l.94 2.06.94-2.06 2.06-.94-2.06-.94-.94-2.06-.94 2.06-2.06.94zm-11 1L8.5 8.5l.94-2.06 2.06-.94-2.06-.94L8.5 2.5l-.94 2.06-2.06.94zm10 10l.94 2.06.94-2.06 2.06-.94-2.06-.94-.94-2.06-.94 2.06-2.06.94z\"/><path d=\"M17.41 7.96l-1.37-1.37c-.4-.4-.92-.59-1.43-.59-.52 0-1.04.2-1.43.59L10.3 9.45l-7.72 7.72c-.78.78-.78 2.05 0 2.83L4 21.41c.39.39.9.59 1.41.59.51 0 1.02-.2 1.41-.59l7.78-7.78 2.81-2.81c.8-.78.8-2.07 0-2.86zM5.41 20L4 18.59l7.72-7.72 1.47 1.35L5.41 20z\"/>\n",
              "  </svg>\n",
              "      </button>\n",
              "      \n",
              "  <style>\n",
              "    .colab-df-container {\n",
              "      display:flex;\n",
              "      flex-wrap:wrap;\n",
              "      gap: 12px;\n",
              "    }\n",
              "\n",
              "    .colab-df-convert {\n",
              "      background-color: #E8F0FE;\n",
              "      border: none;\n",
              "      border-radius: 50%;\n",
              "      cursor: pointer;\n",
              "      display: none;\n",
              "      fill: #1967D2;\n",
              "      height: 32px;\n",
              "      padding: 0 0 0 0;\n",
              "      width: 32px;\n",
              "    }\n",
              "\n",
              "    .colab-df-convert:hover {\n",
              "      background-color: #E2EBFA;\n",
              "      box-shadow: 0px 1px 2px rgba(60, 64, 67, 0.3), 0px 1px 3px 1px rgba(60, 64, 67, 0.15);\n",
              "      fill: #174EA6;\n",
              "    }\n",
              "\n",
              "    [theme=dark] .colab-df-convert {\n",
              "      background-color: #3B4455;\n",
              "      fill: #D2E3FC;\n",
              "    }\n",
              "\n",
              "    [theme=dark] .colab-df-convert:hover {\n",
              "      background-color: #434B5C;\n",
              "      box-shadow: 0px 1px 3px 1px rgba(0, 0, 0, 0.15);\n",
              "      filter: drop-shadow(0px 1px 2px rgba(0, 0, 0, 0.3));\n",
              "      fill: #FFFFFF;\n",
              "    }\n",
              "  </style>\n",
              "\n",
              "      <script>\n",
              "        const buttonEl =\n",
              "          document.querySelector('#df-9ac36d0c-cf19-49fa-8f58-7fbc0e3c8f0e button.colab-df-convert');\n",
              "        buttonEl.style.display =\n",
              "          google.colab.kernel.accessAllowed ? 'block' : 'none';\n",
              "\n",
              "        async function convertToInteractive(key) {\n",
              "          const element = document.querySelector('#df-9ac36d0c-cf19-49fa-8f58-7fbc0e3c8f0e');\n",
              "          const dataTable =\n",
              "            await google.colab.kernel.invokeFunction('convertToInteractive',\n",
              "                                                     [key], {});\n",
              "          if (!dataTable) return;\n",
              "\n",
              "          const docLinkHtml = 'Like what you see? Visit the ' +\n",
              "            '<a target=\"_blank\" href=https://colab.research.google.com/notebooks/data_table.ipynb>data table notebook</a>'\n",
              "            + ' to learn more about interactive tables.';\n",
              "          element.innerHTML = '';\n",
              "          dataTable['output_type'] = 'display_data';\n",
              "          await google.colab.output.renderOutput(dataTable, element);\n",
              "          const docLink = document.createElement('div');\n",
              "          docLink.innerHTML = docLinkHtml;\n",
              "          element.appendChild(docLink);\n",
              "        }\n",
              "      </script>\n",
              "    </div>\n",
              "  </div>\n",
              "  "
            ]
          },
          "metadata": {},
          "execution_count": 83
        }
      ]
    },
    {
      "cell_type": "markdown",
      "source": [
        "###Rango intercuartilico Girona"
      ],
      "metadata": {
        "id": "kORc3D5cUUCU"
      }
    },
    {
      "cell_type": "code",
      "source": [
        "nonumericos = dfg.select_dtypes(exclude=['object'])\n",
        "\n",
        "# Eliminar las columnas seleccionadas\n",
        "data4 = dfg.drop(nonumericos.columns, axis=1)"
      ],
      "metadata": {
        "id": "x7R3XNDfUUCb"
      },
      "execution_count": 86,
      "outputs": []
    },
    {
      "cell_type": "code",
      "source": [
        "y=data4\n",
        "\n",
        "percentile25=y.quantile(0.25, numeric_only=True) #Q1\n",
        "percentile75=y.quantile(0.75, numeric_only=True) #Q3\n",
        "iqr= percentile75 - percentile25\n",
        "\n",
        "Limite_Superior_iqr= percentile75 + 1.5*iqr\n",
        "Limite_Inferior_iqr= percentile25 - 1.5*iqr\n",
        "print(\"Limite superior permitido\", Limite_Superior_iqr)\n",
        "print(\"Limite inferior permitido\", Limite_Inferior_iqr)"
      ],
      "metadata": {
        "colab": {
          "base_uri": "https://localhost:8080/"
        },
        "outputId": "9ef9f526-5fce-4be9-cb9a-97d5b82879ed",
        "id": "CAgx8gtvUUCc"
      },
      "execution_count": 87,
      "outputs": [
        {
          "output_type": "stream",
          "name": "stdout",
          "text": [
            "Limite superior permitido Series([], dtype: float64)\n",
            "Limite inferior permitido Series([], dtype: float64)\n"
          ]
        }
      ]
    },
    {
      "cell_type": "code",
      "source": [
        "#Encontramos Outliers del Dataframe\n",
        "outliers_iqr= data4[(y>Limite_Superior_iqr)|(y<Limite_Inferior_iqr)]\n",
        "#Obtenemos datos limpios del Dataframe\n",
        "data3_iqr= data4[(y<=Limite_Superior_iqr)&(y>=Limite_Inferior_iqr)]"
      ],
      "metadata": {
        "colab": {
          "base_uri": "https://localhost:8080/"
        },
        "outputId": "32cf2c46-dbe9-4274-899f-e1570f399a7a",
        "id": "ubbrzUpZUUCd"
      },
      "execution_count": 88,
      "outputs": [
        {
          "output_type": "stream",
          "name": "stderr",
          "text": [
            "<ipython-input-88-71eec20d6574>:2: FutureWarning: Automatic reindexing on DataFrame vs Series comparisons is deprecated and will raise ValueError in a future version. Do `left, right = left.align(right, axis=1, copy=False)` before e.g. `left == right`\n",
            "  outliers_iqr= data4[(y>Limite_Superior_iqr)|(y<Limite_Inferior_iqr)]\n",
            "<ipython-input-88-71eec20d6574>:4: FutureWarning: Automatic reindexing on DataFrame vs Series comparisons is deprecated and will raise ValueError in a future version. Do `left, right = left.align(right, axis=1, copy=False)` before e.g. `left == right`\n",
            "  data3_iqr= data4[(y<=Limite_Superior_iqr)&(y>=Limite_Inferior_iqr)]\n"
          ]
        }
      ]
    },
    {
      "cell_type": "code",
      "source": [
        "#Corroboramos valores nulos del dataframe LIMPIO\n",
        "valores_nulos=data3_iqr.isnull().sum().sum()\n",
        "valores_nulos"
      ],
      "metadata": {
        "colab": {
          "base_uri": "https://localhost:8080/"
        },
        "outputId": "fc63b66d-39e9-4941-90d9-da10463f8737",
        "id": "wRS1KaTBUUCe"
      },
      "execution_count": 89,
      "outputs": [
        {
          "output_type": "execute_result",
          "data": {
            "text/plain": [
              "62304"
            ]
          },
          "metadata": {},
          "execution_count": 89
        }
      ]
    },
    {
      "cell_type": "code",
      "source": [
        "#Reemplazamos valores atípicos (nulos) del dataframe con \"mean\"\n",
        "#Realizamos una copia del dataframe\n",
        "data5_iqr=data3_iqr.copy()\n",
        "data5_iqr=data5_iqr.fillna(round(data3_iqr.mean(),1))"
      ],
      "metadata": {
        "id": "uxyiy8VMUUCf"
      },
      "execution_count": 90,
      "outputs": []
    },
    {
      "cell_type": "code",
      "source": [
        "datos_obj=nonumericos\n",
        "Datos_limpios = pd.concat([datos_obj, data5_iqr], axis=1)\n",
        "Datos_limpios.head()"
      ],
      "metadata": {
        "colab": {
          "base_uri": "https://localhost:8080/",
          "height": 1000
        },
        "outputId": "ff848bbc-058d-4a8e-de96-0a96a2fb9e9a",
        "id": "gc6bbxRQUUCg"
      },
      "execution_count": 91,
      "outputs": [
        {
          "output_type": "execute_result",
          "data": {
            "text/plain": [
              "                                                                                                                                                                                                                                                                                                                                                                                                                                                                                                                                                                                                                                                                                       conditioning\"\"  \\\n",
              "31143313 https://www.airbnb.com/rooms/31143313 2.023030e+13 01/04/2023 city scrape Eiffel Bridge Boutique Apartment                   Eiffel Bridge Boutique Apartment Ã©s un espai i... El barri del Mercadal es troba en el centre de ... https://a0.muscache.com/pictures/28daaa66-ba8c-... 12451344  https://www.airbnb.com/users/show/12451344  Alexandre         14/04/2016 Girona, Spain        Nacido en Girona y enamorado de mi ciudad. Prof... within an hour 100% 95%  t https://a0.muscache.com/im/pictures/user/4a5078... https://a0.muscache.com/im/pictures/user/4a5078... NaN 2.0   2.0   ['email', 'phone']               t t Girona, Catalunya, Spain Girona   NaN        41.98519   \n",
              "30920857 https://www.airbnb.com/rooms/30920857 2.023030e+13 01/04/2023 city scrape Cozy Holiday Home in Calonge with Private Pool     Why stay here<br /><br />Lying at 6 km from the... NaN                                                https://a0.muscache.com/pictures/37e8bf04-b168-... 122175936 https://www.airbnb.com/users/show/122175936 Laura - BELVILLA  23/03/2017 ZÃ¼rich, Switzerland Hi, Iâm Laura. Iâm part of the Belvilla Cus... within an hour 100% 100% f https://a0.muscache.com/im/pictures/user/fc8aad... https://a0.muscache.com/im/pictures/user/fc8aad... NaN 255.0 329.0 ['email', 'phone']               t t NaN                      Calonge  NaN        41.87586   \n",
              "30922616 https://www.airbnb.com/rooms/30922616 2.023030e+13 01/04/2023 city scrape balmes - apartment with magnificent sea views      Apartment with magnificent sea views, located i... NaN                                                https://a0.muscache.com/pictures/prohost-api/Ho... 113356954 https://www.airbnb.com/users/show/113356954 Company TurÃ­stic 26/01/2017 LlanÃ§Ã , Spain      Somos una empresa de servicios inmobiliarios co... within an hour 98%  100% f https://a0.muscache.com/im/pictures/user/89f37b... https://a0.muscache.com/im/pictures/user/89f37b... NaN 129.0 358.0 ['email', 'phone', 'work_email'] t t NaN                      LlanÃ§Ã  NaN        42.35457   \n",
              "30922622 https://www.airbnb.com/rooms/30922622 2.023030e+13 01/04/2023 city scrape casa paradis - semi-detached house with panoramic  Beautiful house with magnificent sea views in G... NaN                                                https://a0.muscache.com/pictures/prohost-api/Ho... 113356954 https://www.airbnb.com/users/show/113356954 Company TurÃ­stic 26/01/2017 LlanÃ§Ã , Spain      Somos una empresa de servicios inmobiliarios co... within an hour 98%  100% f https://a0.muscache.com/im/pictures/user/89f37b... https://a0.muscache.com/im/pictures/user/89f37b... NaN 129.0 358.0 ['email', 'phone', 'work_email'] t t NaN                      LlanÃ§Ã  NaN        42.38738   \n",
              "30922636 https://www.airbnb.com/rooms/30922636 2.023030e+13 01/04/2023 city scrape fanÃ©-mar 5 - apartment with spectacular views,... Apartment in 1st line of the sea located in Fan... NaN                                                https://a0.muscache.com/pictures/prohost-api/Ho... 113356954 https://www.airbnb.com/users/show/113356954 Company TurÃ­stic 26/01/2017 LlanÃ§Ã , Spain      Somos una empresa de servicios inmobiliarios co... within an hour 98%  100% f https://a0.muscache.com/im/pictures/user/89f37b... https://a0.muscache.com/im/pictures/user/89f37b... NaN 129.0 358.0 ['email', 'phone', 'work_email'] t t NaN                      LlanÃ§Ã  NaN        42.35872   \n",
              "\n",
              "                                                                                                                                                                                                                                                                                                                                                                                                                                                                                                                                                                                                                                                                                        \"\"Oven\"\"  \\\n",
              "31143313 https://www.airbnb.com/rooms/31143313 2.023030e+13 01/04/2023 city scrape Eiffel Bridge Boutique Apartment                   Eiffel Bridge Boutique Apartment Ã©s un espai i... El barri del Mercadal es troba en el centre de ... https://a0.muscache.com/pictures/28daaa66-ba8c-... 12451344  https://www.airbnb.com/users/show/12451344  Alexandre         14/04/2016 Girona, Spain        Nacido en Girona y enamorado de mi ciudad. Prof... within an hour 100% 95%  t https://a0.muscache.com/im/pictures/user/4a5078... https://a0.muscache.com/im/pictures/user/4a5078... NaN 2.0   2.0   ['email', 'phone']               t t Girona, Catalunya, Spain Girona   NaN    2.82132   \n",
              "30920857 https://www.airbnb.com/rooms/30920857 2.023030e+13 01/04/2023 city scrape Cozy Holiday Home in Calonge with Private Pool     Why stay here<br /><br />Lying at 6 km from the... NaN                                                https://a0.muscache.com/pictures/37e8bf04-b168-... 122175936 https://www.airbnb.com/users/show/122175936 Laura - BELVILLA  23/03/2017 ZÃ¼rich, Switzerland Hi, Iâm Laura. Iâm part of the Belvilla Cus... within an hour 100% 100% f https://a0.muscache.com/im/pictures/user/fc8aad... https://a0.muscache.com/im/pictures/user/fc8aad... NaN 255.0 329.0 ['email', 'phone']               t t NaN                      Calonge  NaN    3.07226   \n",
              "30922616 https://www.airbnb.com/rooms/30922616 2.023030e+13 01/04/2023 city scrape balmes - apartment with magnificent sea views      Apartment with magnificent sea views, located i... NaN                                                https://a0.muscache.com/pictures/prohost-api/Ho... 113356954 https://www.airbnb.com/users/show/113356954 Company TurÃ­stic 26/01/2017 LlanÃ§Ã , Spain      Somos una empresa de servicios inmobiliarios co... within an hour 98%  100% f https://a0.muscache.com/im/pictures/user/89f37b... https://a0.muscache.com/im/pictures/user/89f37b... NaN 129.0 358.0 ['email', 'phone', 'work_email'] t t NaN                      LlanÃ§Ã  NaN    3.16632   \n",
              "30922622 https://www.airbnb.com/rooms/30922622 2.023030e+13 01/04/2023 city scrape casa paradis - semi-detached house with panoramic  Beautiful house with magnificent sea views in G... NaN                                                https://a0.muscache.com/pictures/prohost-api/Ho... 113356954 https://www.airbnb.com/users/show/113356954 Company TurÃ­stic 26/01/2017 LlanÃ§Ã , Spain      Somos una empresa de servicios inmobiliarios co... within an hour 98%  100% f https://a0.muscache.com/im/pictures/user/89f37b... https://a0.muscache.com/im/pictures/user/89f37b... NaN 129.0 358.0 ['email', 'phone', 'work_email'] t t NaN                      LlanÃ§Ã  NaN    3.15223   \n",
              "30922636 https://www.airbnb.com/rooms/30922636 2.023030e+13 01/04/2023 city scrape fanÃ©-mar 5 - apartment with spectacular views,... Apartment in 1st line of the sea located in Fan... NaN                                                https://a0.muscache.com/pictures/prohost-api/Ho... 113356954 https://www.airbnb.com/users/show/113356954 Company TurÃ­stic 26/01/2017 LlanÃ§Ã , Spain      Somos una empresa de servicios inmobiliarios co... within an hour 98%  100% f https://a0.muscache.com/im/pictures/user/89f37b... https://a0.muscache.com/im/pictures/user/89f37b... NaN 129.0 358.0 ['email', 'phone', 'work_email'] t t NaN                      LlanÃ§Ã  NaN    3.16700   \n",
              "\n",
              "                                                                                                                                                                                                                                                                                                                                                                                                                                                                                                                                                                                                                                                                                        \"\"Free parking on premises\"\"  \\\n",
              "31143313 https://www.airbnb.com/rooms/31143313 2.023030e+13 01/04/2023 city scrape Eiffel Bridge Boutique Apartment                   Eiffel Bridge Boutique Apartment Ã©s un espai i... El barri del Mercadal es troba en el centre de ... https://a0.muscache.com/pictures/28daaa66-ba8c-... 12451344  https://www.airbnb.com/users/show/12451344  Alexandre         14/04/2016 Girona, Spain        Nacido en Girona y enamorado de mi ciudad. Prof... within an hour 100% 95%  t https://a0.muscache.com/im/pictures/user/4a5078... https://a0.muscache.com/im/pictures/user/4a5078... NaN 2.0   2.0   ['email', 'phone']               t t Girona, Catalunya, Spain Girona   NaN                            5.0   \n",
              "30920857 https://www.airbnb.com/rooms/30920857 2.023030e+13 01/04/2023 city scrape Cozy Holiday Home in Calonge with Private Pool     Why stay here<br /><br />Lying at 6 km from the... NaN                                                https://a0.muscache.com/pictures/37e8bf04-b168-... 122175936 https://www.airbnb.com/users/show/122175936 Laura - BELVILLA  23/03/2017 ZÃ¼rich, Switzerland Hi, Iâm Laura. Iâm part of the Belvilla Cus... within an hour 100% 100% f https://a0.muscache.com/im/pictures/user/fc8aad... https://a0.muscache.com/im/pictures/user/fc8aad... NaN 255.0 329.0 ['email', 'phone']               t t NaN                      Calonge  NaN                            6.0   \n",
              "30922616 https://www.airbnb.com/rooms/30922616 2.023030e+13 01/04/2023 city scrape balmes - apartment with magnificent sea views      Apartment with magnificent sea views, located i... NaN                                                https://a0.muscache.com/pictures/prohost-api/Ho... 113356954 https://www.airbnb.com/users/show/113356954 Company TurÃ­stic 26/01/2017 LlanÃ§Ã , Spain      Somos una empresa de servicios inmobiliarios co... within an hour 98%  100% f https://a0.muscache.com/im/pictures/user/89f37b... https://a0.muscache.com/im/pictures/user/89f37b... NaN 129.0 358.0 ['email', 'phone', 'work_email'] t t NaN                      LlanÃ§Ã  NaN                            4.0   \n",
              "30922622 https://www.airbnb.com/rooms/30922622 2.023030e+13 01/04/2023 city scrape casa paradis - semi-detached house with panoramic  Beautiful house with magnificent sea views in G... NaN                                                https://a0.muscache.com/pictures/prohost-api/Ho... 113356954 https://www.airbnb.com/users/show/113356954 Company TurÃ­stic 26/01/2017 LlanÃ§Ã , Spain      Somos una empresa de servicios inmobiliarios co... within an hour 98%  100% f https://a0.muscache.com/im/pictures/user/89f37b... https://a0.muscache.com/im/pictures/user/89f37b... NaN 129.0 358.0 ['email', 'phone', 'work_email'] t t NaN                      LlanÃ§Ã  NaN                            6.0   \n",
              "30922636 https://www.airbnb.com/rooms/30922636 2.023030e+13 01/04/2023 city scrape fanÃ©-mar 5 - apartment with spectacular views,... Apartment in 1st line of the sea located in Fan... NaN                                                https://a0.muscache.com/pictures/prohost-api/Ho... 113356954 https://www.airbnb.com/users/show/113356954 Company TurÃ­stic 26/01/2017 LlanÃ§Ã , Spain      Somos una empresa de servicios inmobiliarios co... within an hour 98%  100% f https://a0.muscache.com/im/pictures/user/89f37b... https://a0.muscache.com/im/pictures/user/89f37b... NaN 129.0 358.0 ['email', 'phone', 'work_email'] t t NaN                      LlanÃ§Ã  NaN                            4.0   \n",
              "\n",
              "                                                                                                                                                                                                                                                                                                                                                                                                                                                                                                                                                                                                                                                                                        \"\"Outdoor dining area\"\"  \\\n",
              "31143313 https://www.airbnb.com/rooms/31143313 2.023030e+13 01/04/2023 city scrape Eiffel Bridge Boutique Apartment                   Eiffel Bridge Boutique Apartment Ã©s un espai i... El barri del Mercadal es troba en el centre de ... https://a0.muscache.com/pictures/28daaa66-ba8c-... 12451344  https://www.airbnb.com/users/show/12451344  Alexandre         14/04/2016 Girona, Spain        Nacido en Girona y enamorado de mi ciudad. Prof... within an hour 100% 95%  t https://a0.muscache.com/im/pictures/user/4a5078... https://a0.muscache.com/im/pictures/user/4a5078... NaN 2.0   2.0   ['email', 'phone']               t t Girona, Catalunya, Spain Girona   NaN                       0.0   \n",
              "30920857 https://www.airbnb.com/rooms/30920857 2.023030e+13 01/04/2023 city scrape Cozy Holiday Home in Calonge with Private Pool     Why stay here<br /><br />Lying at 6 km from the... NaN                                                https://a0.muscache.com/pictures/37e8bf04-b168-... 122175936 https://www.airbnb.com/users/show/122175936 Laura - BELVILLA  23/03/2017 ZÃ¼rich, Switzerland Hi, Iâm Laura. Iâm part of the Belvilla Cus... within an hour 100% 100% f https://a0.muscache.com/im/pictures/user/fc8aad... https://a0.muscache.com/im/pictures/user/fc8aad... NaN 255.0 329.0 ['email', 'phone']               t t NaN                      Calonge  NaN                       0.0   \n",
              "30922616 https://www.airbnb.com/rooms/30922616 2.023030e+13 01/04/2023 city scrape balmes - apartment with magnificent sea views      Apartment with magnificent sea views, located i... NaN                                                https://a0.muscache.com/pictures/prohost-api/Ho... 113356954 https://www.airbnb.com/users/show/113356954 Company TurÃ­stic 26/01/2017 LlanÃ§Ã , Spain      Somos una empresa de servicios inmobiliarios co... within an hour 98%  100% f https://a0.muscache.com/im/pictures/user/89f37b... https://a0.muscache.com/im/pictures/user/89f37b... NaN 129.0 358.0 ['email', 'phone', 'work_email'] t t NaN                      LlanÃ§Ã  NaN                       0.0   \n",
              "30922622 https://www.airbnb.com/rooms/30922622 2.023030e+13 01/04/2023 city scrape casa paradis - semi-detached house with panoramic  Beautiful house with magnificent sea views in G... NaN                                                https://a0.muscache.com/pictures/prohost-api/Ho... 113356954 https://www.airbnb.com/users/show/113356954 Company TurÃ­stic 26/01/2017 LlanÃ§Ã , Spain      Somos una empresa de servicios inmobiliarios co... within an hour 98%  100% f https://a0.muscache.com/im/pictures/user/89f37b... https://a0.muscache.com/im/pictures/user/89f37b... NaN 129.0 358.0 ['email', 'phone', 'work_email'] t t NaN                      LlanÃ§Ã  NaN                       0.0   \n",
              "30922636 https://www.airbnb.com/rooms/30922636 2.023030e+13 01/04/2023 city scrape fanÃ©-mar 5 - apartment with spectacular views,... Apartment in 1st line of the sea located in Fan... NaN                                                https://a0.muscache.com/pictures/prohost-api/Ho... 113356954 https://www.airbnb.com/users/show/113356954 Company TurÃ­stic 26/01/2017 LlanÃ§Ã , Spain      Somos una empresa de servicios inmobiliarios co... within an hour 98%  100% f https://a0.muscache.com/im/pictures/user/89f37b... https://a0.muscache.com/im/pictures/user/89f37b... NaN 129.0 358.0 ['email', 'phone', 'work_email'] t t NaN                      LlanÃ§Ã  NaN                       0.0   \n",
              "\n",
              "                                                                                                                                                                                                                                                                                                                                                                                                                                                                                                                                                                                                                                                                                        \"\"Refrigerator\"\"  \\\n",
              "31143313 https://www.airbnb.com/rooms/31143313 2.023030e+13 01/04/2023 city scrape Eiffel Bridge Boutique Apartment                   Eiffel Bridge Boutique Apartment Ã©s un espai i... El barri del Mercadal es troba en el centre de ... https://a0.muscache.com/pictures/28daaa66-ba8c-... 12451344  https://www.airbnb.com/users/show/12451344  Alexandre         14/04/2016 Girona, Spain        Nacido en Girona y enamorado de mi ciudad. Prof... within an hour 100% 95%  t https://a0.muscache.com/im/pictures/user/4a5078... https://a0.muscache.com/im/pictures/user/4a5078... NaN 2.0   2.0   ['email', 'phone']               t t Girona, Catalunya, Spain Girona   NaN                2.0   \n",
              "30920857 https://www.airbnb.com/rooms/30920857 2.023030e+13 01/04/2023 city scrape Cozy Holiday Home in Calonge with Private Pool     Why stay here<br /><br />Lying at 6 km from the... NaN                                                https://a0.muscache.com/pictures/37e8bf04-b168-... 122175936 https://www.airbnb.com/users/show/122175936 Laura - BELVILLA  23/03/2017 ZÃ¼rich, Switzerland Hi, Iâm Laura. Iâm part of the Belvilla Cus... within an hour 100% 100% f https://a0.muscache.com/im/pictures/user/fc8aad... https://a0.muscache.com/im/pictures/user/fc8aad... NaN 255.0 329.0 ['email', 'phone']               t t NaN                      Calonge  NaN                3.0   \n",
              "30922616 https://www.airbnb.com/rooms/30922616 2.023030e+13 01/04/2023 city scrape balmes - apartment with magnificent sea views      Apartment with magnificent sea views, located i... NaN                                                https://a0.muscache.com/pictures/prohost-api/Ho... 113356954 https://www.airbnb.com/users/show/113356954 Company TurÃ­stic 26/01/2017 LlanÃ§Ã , Spain      Somos una empresa de servicios inmobiliarios co... within an hour 98%  100% f https://a0.muscache.com/im/pictures/user/89f37b... https://a0.muscache.com/im/pictures/user/89f37b... NaN 129.0 358.0 ['email', 'phone', 'work_email'] t t NaN                      LlanÃ§Ã  NaN                1.0   \n",
              "30922622 https://www.airbnb.com/rooms/30922622 2.023030e+13 01/04/2023 city scrape casa paradis - semi-detached house with panoramic  Beautiful house with magnificent sea views in G... NaN                                                https://a0.muscache.com/pictures/prohost-api/Ho... 113356954 https://www.airbnb.com/users/show/113356954 Company TurÃ­stic 26/01/2017 LlanÃ§Ã , Spain      Somos una empresa de servicios inmobiliarios co... within an hour 98%  100% f https://a0.muscache.com/im/pictures/user/89f37b... https://a0.muscache.com/im/pictures/user/89f37b... NaN 129.0 358.0 ['email', 'phone', 'work_email'] t t NaN                      LlanÃ§Ã  NaN                3.0   \n",
              "30922636 https://www.airbnb.com/rooms/30922636 2.023030e+13 01/04/2023 city scrape fanÃ©-mar 5 - apartment with spectacular views,... Apartment in 1st line of the sea located in Fan... NaN                                                https://a0.muscache.com/pictures/prohost-api/Ho... 113356954 https://www.airbnb.com/users/show/113356954 Company TurÃ­stic 26/01/2017 LlanÃ§Ã , Spain      Somos una empresa de servicios inmobiliarios co... within an hour 98%  100% f https://a0.muscache.com/im/pictures/user/89f37b... https://a0.muscache.com/im/pictures/user/89f37b... NaN 129.0 358.0 ['email', 'phone', 'work_email'] t t NaN                      LlanÃ§Ã  NaN                2.0   \n",
              "\n",
              "                                                                                                                                                                                                                                                                                                                                                                                                                                                                                                                                                                                                                                                                                        \"\"TV\"\"  \\\n",
              "31143313 https://www.airbnb.com/rooms/31143313 2.023030e+13 01/04/2023 city scrape Eiffel Bridge Boutique Apartment                   Eiffel Bridge Boutique Apartment Ã©s un espai i... El barri del Mercadal es troba en el centre de ... https://a0.muscache.com/pictures/28daaa66-ba8c-... 12451344  https://www.airbnb.com/users/show/12451344  Alexandre         14/04/2016 Girona, Spain        Nacido en Girona y enamorado de mi ciudad. Prof... within an hour 100% 95%  t https://a0.muscache.com/im/pictures/user/4a5078... https://a0.muscache.com/im/pictures/user/4a5078... NaN 2.0   2.0   ['email', 'phone']               t t Girona, Catalunya, Spain Girona   NaN      2.0   \n",
              "30920857 https://www.airbnb.com/rooms/30920857 2.023030e+13 01/04/2023 city scrape Cozy Holiday Home in Calonge with Private Pool     Why stay here<br /><br />Lying at 6 km from the... NaN                                                https://a0.muscache.com/pictures/37e8bf04-b168-... 122175936 https://www.airbnb.com/users/show/122175936 Laura - BELVILLA  23/03/2017 ZÃ¼rich, Switzerland Hi, Iâm Laura. Iâm part of the Belvilla Cus... within an hour 100% 100% f https://a0.muscache.com/im/pictures/user/fc8aad... https://a0.muscache.com/im/pictures/user/fc8aad... NaN 255.0 329.0 ['email', 'phone']               t t NaN                      Calonge  NaN      8.0   \n",
              "30922616 https://www.airbnb.com/rooms/30922616 2.023030e+13 01/04/2023 city scrape balmes - apartment with magnificent sea views      Apartment with magnificent sea views, located i... NaN                                                https://a0.muscache.com/pictures/prohost-api/Ho... 113356954 https://www.airbnb.com/users/show/113356954 Company TurÃ­stic 26/01/2017 LlanÃ§Ã , Spain      Somos una empresa de servicios inmobiliarios co... within an hour 98%  100% f https://a0.muscache.com/im/pictures/user/89f37b... https://a0.muscache.com/im/pictures/user/89f37b... NaN 129.0 358.0 ['email', 'phone', 'work_email'] t t NaN                      LlanÃ§Ã  NaN      2.0   \n",
              "30922622 https://www.airbnb.com/rooms/30922622 2.023030e+13 01/04/2023 city scrape casa paradis - semi-detached house with panoramic  Beautiful house with magnificent sea views in G... NaN                                                https://a0.muscache.com/pictures/prohost-api/Ho... 113356954 https://www.airbnb.com/users/show/113356954 Company TurÃ­stic 26/01/2017 LlanÃ§Ã , Spain      Somos una empresa de servicios inmobiliarios co... within an hour 98%  100% f https://a0.muscache.com/im/pictures/user/89f37b... https://a0.muscache.com/im/pictures/user/89f37b... NaN 129.0 358.0 ['email', 'phone', 'work_email'] t t NaN                      LlanÃ§Ã  NaN      3.0   \n",
              "30922636 https://www.airbnb.com/rooms/30922636 2.023030e+13 01/04/2023 city scrape fanÃ©-mar 5 - apartment with spectacular views,... Apartment in 1st line of the sea located in Fan... NaN                                                https://a0.muscache.com/pictures/prohost-api/Ho... 113356954 https://www.airbnb.com/users/show/113356954 Company TurÃ­stic 26/01/2017 LlanÃ§Ã , Spain      Somos una empresa de servicios inmobiliarios co... within an hour 98%  100% f https://a0.muscache.com/im/pictures/user/89f37b... https://a0.muscache.com/im/pictures/user/89f37b... NaN 129.0 358.0 ['email', 'phone', 'work_email'] t t NaN                      LlanÃ§Ã  NaN      3.0   \n",
              "\n",
              "                                                                                                                                                                                                                                                                                                                                                                                                                                                                                                                                                                                                                                                                                         7  \\\n",
              "31143313 https://www.airbnb.com/rooms/31143313 2.023030e+13 01/04/2023 city scrape Eiffel Bridge Boutique Apartment                   Eiffel Bridge Boutique Apartment Ã©s un espai i... El barri del Mercadal es troba en el centre de ... https://a0.muscache.com/pictures/28daaa66-ba8c-... 12451344  https://www.airbnb.com/users/show/12451344  Alexandre         14/04/2016 Girona, Spain        Nacido en Girona y enamorado de mi ciudad. Prof... within an hour 100% 95%  t https://a0.muscache.com/im/pictures/user/4a5078... https://a0.muscache.com/im/pictures/user/4a5078... NaN 2.0   2.0   ['email', 'phone']               t t Girona, Catalunya, Spain Girona   NaN  1.0   \n",
              "30920857 https://www.airbnb.com/rooms/30920857 2.023030e+13 01/04/2023 city scrape Cozy Holiday Home in Calonge with Private Pool     Why stay here<br /><br />Lying at 6 km from the... NaN                                                https://a0.muscache.com/pictures/37e8bf04-b168-... 122175936 https://www.airbnb.com/users/show/122175936 Laura - BELVILLA  23/03/2017 ZÃ¼rich, Switzerland Hi, Iâm Laura. Iâm part of the Belvilla Cus... within an hour 100% 100% f https://a0.muscache.com/im/pictures/user/fc8aad... https://a0.muscache.com/im/pictures/user/fc8aad... NaN 255.0 329.0 ['email', 'phone']               t t NaN                      Calonge  NaN  1.0   \n",
              "30922616 https://www.airbnb.com/rooms/30922616 2.023030e+13 01/04/2023 city scrape balmes - apartment with magnificent sea views      Apartment with magnificent sea views, located i... NaN                                                https://a0.muscache.com/pictures/prohost-api/Ho... 113356954 https://www.airbnb.com/users/show/113356954 Company TurÃ­stic 26/01/2017 LlanÃ§Ã , Spain      Somos una empresa de servicios inmobiliarios co... within an hour 98%  100% f https://a0.muscache.com/im/pictures/user/89f37b... https://a0.muscache.com/im/pictures/user/89f37b... NaN 129.0 358.0 ['email', 'phone', 'work_email'] t t NaN                      LlanÃ§Ã  NaN  1.0   \n",
              "30922622 https://www.airbnb.com/rooms/30922622 2.023030e+13 01/04/2023 city scrape casa paradis - semi-detached house with panoramic  Beautiful house with magnificent sea views in G... NaN                                                https://a0.muscache.com/pictures/prohost-api/Ho... 113356954 https://www.airbnb.com/users/show/113356954 Company TurÃ­stic 26/01/2017 LlanÃ§Ã , Spain      Somos una empresa de servicios inmobiliarios co... within an hour 98%  100% f https://a0.muscache.com/im/pictures/user/89f37b... https://a0.muscache.com/im/pictures/user/89f37b... NaN 129.0 358.0 ['email', 'phone', 'work_email'] t t NaN                      LlanÃ§Ã  NaN  1.0   \n",
              "30922636 https://www.airbnb.com/rooms/30922636 2.023030e+13 01/04/2023 city scrape fanÃ©-mar 5 - apartment with spectacular views,... Apartment in 1st line of the sea located in Fan... NaN                                                https://a0.muscache.com/pictures/prohost-api/Ho... 113356954 https://www.airbnb.com/users/show/113356954 Company TurÃ­stic 26/01/2017 LlanÃ§Ã , Spain      Somos una empresa de servicios inmobiliarios co... within an hour 98%  100% f https://a0.muscache.com/im/pictures/user/89f37b... https://a0.muscache.com/im/pictures/user/89f37b... NaN 129.0 358.0 ['email', 'phone', 'work_email'] t t NaN                      LlanÃ§Ã  NaN  1.0   \n",
              "\n",
              "                                                                                                                                                                                                                                                                                                                                                                                                                                                                                                                                                                                                                                                                                          365  \\\n",
              "31143313 https://www.airbnb.com/rooms/31143313 2.023030e+13 01/04/2023 city scrape Eiffel Bridge Boutique Apartment                   Eiffel Bridge Boutique Apartment Ã©s un espai i... El barri del Mercadal es troba en el centre de ... https://a0.muscache.com/pictures/28daaa66-ba8c-... 12451344  https://www.airbnb.com/users/show/12451344  Alexandre         14/04/2016 Girona, Spain        Nacido en Girona y enamorado de mi ciudad. Prof... within an hour 100% 95%  t https://a0.muscache.com/im/pictures/user/4a5078... https://a0.muscache.com/im/pictures/user/4a5078... NaN 2.0   2.0   ['email', 'phone']               t t Girona, Catalunya, Spain Girona   NaN    60.0   \n",
              "30920857 https://www.airbnb.com/rooms/30920857 2.023030e+13 01/04/2023 city scrape Cozy Holiday Home in Calonge with Private Pool     Why stay here<br /><br />Lying at 6 km from the... NaN                                                https://a0.muscache.com/pictures/37e8bf04-b168-... 122175936 https://www.airbnb.com/users/show/122175936 Laura - BELVILLA  23/03/2017 ZÃ¼rich, Switzerland Hi, Iâm Laura. Iâm part of the Belvilla Cus... within an hour 100% 100% f https://a0.muscache.com/im/pictures/user/fc8aad... https://a0.muscache.com/im/pictures/user/fc8aad... NaN 255.0 329.0 ['email', 'phone']               t t NaN                      Calonge  NaN    28.0   \n",
              "30922616 https://www.airbnb.com/rooms/30922616 2.023030e+13 01/04/2023 city scrape balmes - apartment with magnificent sea views      Apartment with magnificent sea views, located i... NaN                                                https://a0.muscache.com/pictures/prohost-api/Ho... 113356954 https://www.airbnb.com/users/show/113356954 Company TurÃ­stic 26/01/2017 LlanÃ§Ã , Spain      Somos una empresa de servicios inmobiliarios co... within an hour 98%  100% f https://a0.muscache.com/im/pictures/user/89f37b... https://a0.muscache.com/im/pictures/user/89f37b... NaN 129.0 358.0 ['email', 'phone', 'work_email'] t t NaN                      LlanÃ§Ã  NaN  1125.0   \n",
              "30922622 https://www.airbnb.com/rooms/30922622 2.023030e+13 01/04/2023 city scrape casa paradis - semi-detached house with panoramic  Beautiful house with magnificent sea views in G... NaN                                                https://a0.muscache.com/pictures/prohost-api/Ho... 113356954 https://www.airbnb.com/users/show/113356954 Company TurÃ­stic 26/01/2017 LlanÃ§Ã , Spain      Somos una empresa de servicios inmobiliarios co... within an hour 98%  100% f https://a0.muscache.com/im/pictures/user/89f37b... https://a0.muscache.com/im/pictures/user/89f37b... NaN 129.0 358.0 ['email', 'phone', 'work_email'] t t NaN                      LlanÃ§Ã  NaN  1125.0   \n",
              "30922636 https://www.airbnb.com/rooms/30922636 2.023030e+13 01/04/2023 city scrape fanÃ©-mar 5 - apartment with spectacular views,... Apartment in 1st line of the sea located in Fan... NaN                                                https://a0.muscache.com/pictures/prohost-api/Ho... 113356954 https://www.airbnb.com/users/show/113356954 Company TurÃ­stic 26/01/2017 LlanÃ§Ã , Spain      Somos una empresa de servicios inmobiliarios co... within an hour 98%  100% f https://a0.muscache.com/im/pictures/user/89f37b... https://a0.muscache.com/im/pictures/user/89f37b... NaN 129.0 358.0 ['email', 'phone', 'work_email'] t t NaN                      LlanÃ§Ã  NaN  1125.0   \n",
              "\n",
              "                                                                                                                                                                                                                                                                                                                                                                                                                                                                                                                                                                                                                                                                                       7.1  \\\n",
              "31143313 https://www.airbnb.com/rooms/31143313 2.023030e+13 01/04/2023 city scrape Eiffel Bridge Boutique Apartment                   Eiffel Bridge Boutique Apartment Ã©s un espai i... El barri del Mercadal es troba en el centre de ... https://a0.muscache.com/pictures/28daaa66-ba8c-... 12451344  https://www.airbnb.com/users/show/12451344  Alexandre         14/04/2016 Girona, Spain        Nacido en Girona y enamorado de mi ciudad. Prof... within an hour 100% 95%  t https://a0.muscache.com/im/pictures/user/4a5078... https://a0.muscache.com/im/pictures/user/4a5078... NaN 2.0   2.0   ['email', 'phone']               t t Girona, Catalunya, Spain Girona   NaN  1.0   \n",
              "30920857 https://www.airbnb.com/rooms/30920857 2.023030e+13 01/04/2023 city scrape Cozy Holiday Home in Calonge with Private Pool     Why stay here<br /><br />Lying at 6 km from the... NaN                                                https://a0.muscache.com/pictures/37e8bf04-b168-... 122175936 https://www.airbnb.com/users/show/122175936 Laura - BELVILLA  23/03/2017 ZÃ¼rich, Switzerland Hi, Iâm Laura. Iâm part of the Belvilla Cus... within an hour 100% 100% f https://a0.muscache.com/im/pictures/user/fc8aad... https://a0.muscache.com/im/pictures/user/fc8aad... NaN 255.0 329.0 ['email', 'phone']               t t NaN                      Calonge  NaN  1.0   \n",
              "30922616 https://www.airbnb.com/rooms/30922616 2.023030e+13 01/04/2023 city scrape balmes - apartment with magnificent sea views      Apartment with magnificent sea views, located i... NaN                                                https://a0.muscache.com/pictures/prohost-api/Ho... 113356954 https://www.airbnb.com/users/show/113356954 Company TurÃ­stic 26/01/2017 LlanÃ§Ã , Spain      Somos una empresa de servicios inmobiliarios co... within an hour 98%  100% f https://a0.muscache.com/im/pictures/user/89f37b... https://a0.muscache.com/im/pictures/user/89f37b... NaN 129.0 358.0 ['email', 'phone', 'work_email'] t t NaN                      LlanÃ§Ã  NaN  1.0   \n",
              "30922622 https://www.airbnb.com/rooms/30922622 2.023030e+13 01/04/2023 city scrape casa paradis - semi-detached house with panoramic  Beautiful house with magnificent sea views in G... NaN                                                https://a0.muscache.com/pictures/prohost-api/Ho... 113356954 https://www.airbnb.com/users/show/113356954 Company TurÃ­stic 26/01/2017 LlanÃ§Ã , Spain      Somos una empresa de servicios inmobiliarios co... within an hour 98%  100% f https://a0.muscache.com/im/pictures/user/89f37b... https://a0.muscache.com/im/pictures/user/89f37b... NaN 129.0 358.0 ['email', 'phone', 'work_email'] t t NaN                      LlanÃ§Ã  NaN  1.0   \n",
              "30922636 https://www.airbnb.com/rooms/30922636 2.023030e+13 01/04/2023 city scrape fanÃ©-mar 5 - apartment with spectacular views,... Apartment in 1st line of the sea located in Fan... NaN                                                https://a0.muscache.com/pictures/prohost-api/Ho... 113356954 https://www.airbnb.com/users/show/113356954 Company TurÃ­stic 26/01/2017 LlanÃ§Ã , Spain      Somos una empresa de servicios inmobiliarios co... within an hour 98%  100% f https://a0.muscache.com/im/pictures/user/89f37b... https://a0.muscache.com/im/pictures/user/89f37b... NaN 129.0 358.0 ['email', 'phone', 'work_email'] t t NaN                      LlanÃ§Ã  NaN  1.0   \n",
              "\n",
              "                                                                                                                                                                                                                                                                                                                                                                                                                                                                                                                                                                                                                                                                                        7.2  \\\n",
              "31143313 https://www.airbnb.com/rooms/31143313 2.023030e+13 01/04/2023 city scrape Eiffel Bridge Boutique Apartment                   Eiffel Bridge Boutique Apartment Ã©s un espai i... El barri del Mercadal es troba en el centre de ... https://a0.muscache.com/pictures/28daaa66-ba8c-... 12451344  https://www.airbnb.com/users/show/12451344  Alexandre         14/04/2016 Girona, Spain        Nacido en Girona y enamorado de mi ciudad. Prof... within an hour 100% 95%  t https://a0.muscache.com/im/pictures/user/4a5078... https://a0.muscache.com/im/pictures/user/4a5078... NaN 2.0   2.0   ['email', 'phone']               t t Girona, Catalunya, Spain Girona   NaN   5.0   \n",
              "30920857 https://www.airbnb.com/rooms/30920857 2.023030e+13 01/04/2023 city scrape Cozy Holiday Home in Calonge with Private Pool     Why stay here<br /><br />Lying at 6 km from the... NaN                                                https://a0.muscache.com/pictures/37e8bf04-b168-... 122175936 https://www.airbnb.com/users/show/122175936 Laura - BELVILLA  23/03/2017 ZÃ¼rich, Switzerland Hi, Iâm Laura. Iâm part of the Belvilla Cus... within an hour 100% 100% f https://a0.muscache.com/im/pictures/user/fc8aad... https://a0.muscache.com/im/pictures/user/fc8aad... NaN 255.0 329.0 ['email', 'phone']               t t NaN                      Calonge  NaN   7.0   \n",
              "30922616 https://www.airbnb.com/rooms/30922616 2.023030e+13 01/04/2023 city scrape balmes - apartment with magnificent sea views      Apartment with magnificent sea views, located i... NaN                                                https://a0.muscache.com/pictures/prohost-api/Ho... 113356954 https://www.airbnb.com/users/show/113356954 Company TurÃ­stic 26/01/2017 LlanÃ§Ã , Spain      Somos una empresa de servicios inmobiliarios co... within an hour 98%  100% f https://a0.muscache.com/im/pictures/user/89f37b... https://a0.muscache.com/im/pictures/user/89f37b... NaN 129.0 358.0 ['email', 'phone', 'work_email'] t t NaN                      LlanÃ§Ã  NaN  14.0   \n",
              "30922622 https://www.airbnb.com/rooms/30922622 2.023030e+13 01/04/2023 city scrape casa paradis - semi-detached house with panoramic  Beautiful house with magnificent sea views in G... NaN                                                https://a0.muscache.com/pictures/prohost-api/Ho... 113356954 https://www.airbnb.com/users/show/113356954 Company TurÃ­stic 26/01/2017 LlanÃ§Ã , Spain      Somos una empresa de servicios inmobiliarios co... within an hour 98%  100% f https://a0.muscache.com/im/pictures/user/89f37b... https://a0.muscache.com/im/pictures/user/89f37b... NaN 129.0 358.0 ['email', 'phone', 'work_email'] t t NaN                      LlanÃ§Ã  NaN  14.0   \n",
              "30922636 https://www.airbnb.com/rooms/30922636 2.023030e+13 01/04/2023 city scrape fanÃ©-mar 5 - apartment with spectacular views,... Apartment in 1st line of the sea located in Fan... NaN                                                https://a0.muscache.com/pictures/prohost-api/Ho... 113356954 https://www.airbnb.com/users/show/113356954 Company TurÃ­stic 26/01/2017 LlanÃ§Ã , Spain      Somos una empresa de servicios inmobiliarios co... within an hour 98%  100% f https://a0.muscache.com/im/pictures/user/89f37b... https://a0.muscache.com/im/pictures/user/89f37b... NaN 129.0 358.0 ['email', 'phone', 'work_email'] t t NaN                      LlanÃ§Ã  NaN  14.0   \n",
              "\n",
              "                                                                                                                                                                                                                                                                                                                                                                                                                                                                                                                                                                                                                                                                                       ...  \\\n",
              "31143313 https://www.airbnb.com/rooms/31143313 2.023030e+13 01/04/2023 city scrape Eiffel Bridge Boutique Apartment                   Eiffel Bridge Boutique Apartment Ã©s un espai i... El barri del Mercadal es troba en el centre de ... https://a0.muscache.com/pictures/28daaa66-ba8c-... 12451344  https://www.airbnb.com/users/show/12451344  Alexandre         14/04/2016 Girona, Spain        Nacido en Girona y enamorado de mi ciudad. Prof... within an hour 100% 95%  t https://a0.muscache.com/im/pictures/user/4a5078... https://a0.muscache.com/im/pictures/user/4a5078... NaN 2.0   2.0   ['email', 'phone']               t t Girona, Catalunya, Spain Girona   NaN  ...   \n",
              "30920857 https://www.airbnb.com/rooms/30920857 2.023030e+13 01/04/2023 city scrape Cozy Holiday Home in Calonge with Private Pool     Why stay here<br /><br />Lying at 6 km from the... NaN                                                https://a0.muscache.com/pictures/37e8bf04-b168-... 122175936 https://www.airbnb.com/users/show/122175936 Laura - BELVILLA  23/03/2017 ZÃ¼rich, Switzerland Hi, Iâm Laura. Iâm part of the Belvilla Cus... within an hour 100% 100% f https://a0.muscache.com/im/pictures/user/fc8aad... https://a0.muscache.com/im/pictures/user/fc8aad... NaN 255.0 329.0 ['email', 'phone']               t t NaN                      Calonge  NaN  ...   \n",
              "30922616 https://www.airbnb.com/rooms/30922616 2.023030e+13 01/04/2023 city scrape balmes - apartment with magnificent sea views      Apartment with magnificent sea views, located i... NaN                                                https://a0.muscache.com/pictures/prohost-api/Ho... 113356954 https://www.airbnb.com/users/show/113356954 Company TurÃ­stic 26/01/2017 LlanÃ§Ã , Spain      Somos una empresa de servicios inmobiliarios co... within an hour 98%  100% f https://a0.muscache.com/im/pictures/user/89f37b... https://a0.muscache.com/im/pictures/user/89f37b... NaN 129.0 358.0 ['email', 'phone', 'work_email'] t t NaN                      LlanÃ§Ã  NaN  ...   \n",
              "30922622 https://www.airbnb.com/rooms/30922622 2.023030e+13 01/04/2023 city scrape casa paradis - semi-detached house with panoramic  Beautiful house with magnificent sea views in G... NaN                                                https://a0.muscache.com/pictures/prohost-api/Ho... 113356954 https://www.airbnb.com/users/show/113356954 Company TurÃ­stic 26/01/2017 LlanÃ§Ã , Spain      Somos una empresa de servicios inmobiliarios co... within an hour 98%  100% f https://a0.muscache.com/im/pictures/user/89f37b... https://a0.muscache.com/im/pictures/user/89f37b... NaN 129.0 358.0 ['email', 'phone', 'work_email'] t t NaN                      LlanÃ§Ã  NaN  ...   \n",
              "30922636 https://www.airbnb.com/rooms/30922636 2.023030e+13 01/04/2023 city scrape fanÃ©-mar 5 - apartment with spectacular views,... Apartment in 1st line of the sea located in Fan... NaN                                                https://a0.muscache.com/pictures/prohost-api/Ho... 113356954 https://www.airbnb.com/users/show/113356954 Company TurÃ­stic 26/01/2017 LlanÃ§Ã , Spain      Somos una empresa de servicios inmobiliarios co... within an hour 98%  100% f https://a0.muscache.com/im/pictures/user/89f37b... https://a0.muscache.com/im/pictures/user/89f37b... NaN 129.0 358.0 ['email', 'phone', 'work_email'] t t NaN                      LlanÃ§Ã  NaN  ...   \n",
              "\n",
              "                                                                                                                                                                                                                                                                                                                                                                                                                                                                                                                                                                                                                                                                                        \"\"BBQ grill\"\"  \\\n",
              "31143313 https://www.airbnb.com/rooms/31143313 2.023030e+13 01/04/2023 city scrape Eiffel Bridge Boutique Apartment                   Eiffel Bridge Boutique Apartment Ã©s un espai i... El barri del Mercadal es troba en el centre de ... https://a0.muscache.com/pictures/28daaa66-ba8c-... 12451344  https://www.airbnb.com/users/show/12451344  Alexandre         14/04/2016 Girona, Spain        Nacido en Girona y enamorado de mi ciudad. Prof... within an hour 100% 95%  t https://a0.muscache.com/im/pictures/user/4a5078... https://a0.muscache.com/im/pictures/user/4a5078... NaN 2.0   2.0   ['email', 'phone']               t t Girona, Catalunya, Spain Girona   NaN             NaN   \n",
              "30920857 https://www.airbnb.com/rooms/30920857 2.023030e+13 01/04/2023 city scrape Cozy Holiday Home in Calonge with Private Pool     Why stay here<br /><br />Lying at 6 km from the... NaN                                                https://a0.muscache.com/pictures/37e8bf04-b168-... 122175936 https://www.airbnb.com/users/show/122175936 Laura - BELVILLA  23/03/2017 ZÃ¼rich, Switzerland Hi, Iâm Laura. Iâm part of the Belvilla Cus... within an hour 100% 100% f https://a0.muscache.com/im/pictures/user/fc8aad... https://a0.muscache.com/im/pictures/user/fc8aad... NaN 255.0 329.0 ['email', 'phone']               t t NaN                      Calonge  NaN             NaN   \n",
              "30922616 https://www.airbnb.com/rooms/30922616 2.023030e+13 01/04/2023 city scrape balmes - apartment with magnificent sea views      Apartment with magnificent sea views, located i... NaN                                                https://a0.muscache.com/pictures/prohost-api/Ho... 113356954 https://www.airbnb.com/users/show/113356954 Company TurÃ­stic 26/01/2017 LlanÃ§Ã , Spain      Somos una empresa de servicios inmobiliarios co... within an hour 98%  100% f https://a0.muscache.com/im/pictures/user/89f37b... https://a0.muscache.com/im/pictures/user/89f37b... NaN 129.0 358.0 ['email', 'phone', 'work_email'] t t NaN                      LlanÃ§Ã  NaN             NaN   \n",
              "30922622 https://www.airbnb.com/rooms/30922622 2.023030e+13 01/04/2023 city scrape casa paradis - semi-detached house with panoramic  Beautiful house with magnificent sea views in G... NaN                                                https://a0.muscache.com/pictures/prohost-api/Ho... 113356954 https://www.airbnb.com/users/show/113356954 Company TurÃ­stic 26/01/2017 LlanÃ§Ã , Spain      Somos una empresa de servicios inmobiliarios co... within an hour 98%  100% f https://a0.muscache.com/im/pictures/user/89f37b... https://a0.muscache.com/im/pictures/user/89f37b... NaN 129.0 358.0 ['email', 'phone', 'work_email'] t t NaN                      LlanÃ§Ã  NaN             NaN   \n",
              "30922636 https://www.airbnb.com/rooms/30922636 2.023030e+13 01/04/2023 city scrape fanÃ©-mar 5 - apartment with spectacular views,... Apartment in 1st line of the sea located in Fan... NaN                                                https://a0.muscache.com/pictures/prohost-api/Ho... 113356954 https://www.airbnb.com/users/show/113356954 Company TurÃ­stic 26/01/2017 LlanÃ§Ã , Spain      Somos una empresa de servicios inmobiliarios co... within an hour 98%  100% f https://a0.muscache.com/im/pictures/user/89f37b... https://a0.muscache.com/im/pictures/user/89f37b... NaN 129.0 358.0 ['email', 'phone', 'work_email'] t t NaN                      LlanÃ§Ã  NaN             NaN   \n",
              "\n",
              "                                                                                                                                                                                                                                                                                                                                                                                                                                                                                                                                                                                                                                                                                        \"\"Dishes and silverware\"\"  \\\n",
              "31143313 https://www.airbnb.com/rooms/31143313 2.023030e+13 01/04/2023 city scrape Eiffel Bridge Boutique Apartment                   Eiffel Bridge Boutique Apartment Ã©s un espai i... El barri del Mercadal es troba en el centre de ... https://a0.muscache.com/pictures/28daaa66-ba8c-... 12451344  https://www.airbnb.com/users/show/12451344  Alexandre         14/04/2016 Girona, Spain        Nacido en Girona y enamorado de mi ciudad. Prof... within an hour 100% 95%  t https://a0.muscache.com/im/pictures/user/4a5078... https://a0.muscache.com/im/pictures/user/4a5078... NaN 2.0   2.0   ['email', 'phone']               t t Girona, Catalunya, Spain Girona   NaN                         NaN   \n",
              "30920857 https://www.airbnb.com/rooms/30920857 2.023030e+13 01/04/2023 city scrape Cozy Holiday Home in Calonge with Private Pool     Why stay here<br /><br />Lying at 6 km from the... NaN                                                https://a0.muscache.com/pictures/37e8bf04-b168-... 122175936 https://www.airbnb.com/users/show/122175936 Laura - BELVILLA  23/03/2017 ZÃ¼rich, Switzerland Hi, Iâm Laura. Iâm part of the Belvilla Cus... within an hour 100% 100% f https://a0.muscache.com/im/pictures/user/fc8aad... https://a0.muscache.com/im/pictures/user/fc8aad... NaN 255.0 329.0 ['email', 'phone']               t t NaN                      Calonge  NaN                         NaN   \n",
              "30922616 https://www.airbnb.com/rooms/30922616 2.023030e+13 01/04/2023 city scrape balmes - apartment with magnificent sea views      Apartment with magnificent sea views, located i... NaN                                                https://a0.muscache.com/pictures/prohost-api/Ho... 113356954 https://www.airbnb.com/users/show/113356954 Company TurÃ­stic 26/01/2017 LlanÃ§Ã , Spain      Somos una empresa de servicios inmobiliarios co... within an hour 98%  100% f https://a0.muscache.com/im/pictures/user/89f37b... https://a0.muscache.com/im/pictures/user/89f37b... NaN 129.0 358.0 ['email', 'phone', 'work_email'] t t NaN                      LlanÃ§Ã  NaN                         NaN   \n",
              "30922622 https://www.airbnb.com/rooms/30922622 2.023030e+13 01/04/2023 city scrape casa paradis - semi-detached house with panoramic  Beautiful house with magnificent sea views in G... NaN                                                https://a0.muscache.com/pictures/prohost-api/Ho... 113356954 https://www.airbnb.com/users/show/113356954 Company TurÃ­stic 26/01/2017 LlanÃ§Ã , Spain      Somos una empresa de servicios inmobiliarios co... within an hour 98%  100% f https://a0.muscache.com/im/pictures/user/89f37b... https://a0.muscache.com/im/pictures/user/89f37b... NaN 129.0 358.0 ['email', 'phone', 'work_email'] t t NaN                      LlanÃ§Ã  NaN                         NaN   \n",
              "30922636 https://www.airbnb.com/rooms/30922636 2.023030e+13 01/04/2023 city scrape fanÃ©-mar 5 - apartment with spectacular views,... Apartment in 1st line of the sea located in Fan... NaN                                                https://a0.muscache.com/pictures/prohost-api/Ho... 113356954 https://www.airbnb.com/users/show/113356954 Company TurÃ­stic 26/01/2017 LlanÃ§Ã , Spain      Somos una empresa de servicios inmobiliarios co... within an hour 98%  100% f https://a0.muscache.com/im/pictures/user/89f37b... https://a0.muscache.com/im/pictures/user/89f37b... NaN 129.0 358.0 ['email', 'phone', 'work_email'] t t NaN                      LlanÃ§Ã  NaN                         NaN   \n",
              "\n",
              "                                                                                                                                                                                                                                                                                                                                                                                                                                                                                                                                                                                                                                                                                        \"\"Wifi\"\"]\"  \\\n",
              "31143313 https://www.airbnb.com/rooms/31143313 2.023030e+13 01/04/2023 city scrape Eiffel Bridge Boutique Apartment                   Eiffel Bridge Boutique Apartment Ã©s un espai i... El barri del Mercadal es troba en el centre de ... https://a0.muscache.com/pictures/28daaa66-ba8c-... 12451344  https://www.airbnb.com/users/show/12451344  Alexandre         14/04/2016 Girona, Spain        Nacido en Girona y enamorado de mi ciudad. Prof... within an hour 100% 95%  t https://a0.muscache.com/im/pictures/user/4a5078... https://a0.muscache.com/im/pictures/user/4a5078... NaN 2.0   2.0   ['email', 'phone']               t t Girona, Catalunya, Spain Girona   NaN          NaN   \n",
              "30920857 https://www.airbnb.com/rooms/30920857 2.023030e+13 01/04/2023 city scrape Cozy Holiday Home in Calonge with Private Pool     Why stay here<br /><br />Lying at 6 km from the... NaN                                                https://a0.muscache.com/pictures/37e8bf04-b168-... 122175936 https://www.airbnb.com/users/show/122175936 Laura - BELVILLA  23/03/2017 ZÃ¼rich, Switzerland Hi, Iâm Laura. Iâm part of the Belvilla Cus... within an hour 100% 100% f https://a0.muscache.com/im/pictures/user/fc8aad... https://a0.muscache.com/im/pictures/user/fc8aad... NaN 255.0 329.0 ['email', 'phone']               t t NaN                      Calonge  NaN          NaN   \n",
              "30922616 https://www.airbnb.com/rooms/30922616 2.023030e+13 01/04/2023 city scrape balmes - apartment with magnificent sea views      Apartment with magnificent sea views, located i... NaN                                                https://a0.muscache.com/pictures/prohost-api/Ho... 113356954 https://www.airbnb.com/users/show/113356954 Company TurÃ­stic 26/01/2017 LlanÃ§Ã , Spain      Somos una empresa de servicios inmobiliarios co... within an hour 98%  100% f https://a0.muscache.com/im/pictures/user/89f37b... https://a0.muscache.com/im/pictures/user/89f37b... NaN 129.0 358.0 ['email', 'phone', 'work_email'] t t NaN                      LlanÃ§Ã  NaN          NaN   \n",
              "30922622 https://www.airbnb.com/rooms/30922622 2.023030e+13 01/04/2023 city scrape casa paradis - semi-detached house with panoramic  Beautiful house with magnificent sea views in G... NaN                                                https://a0.muscache.com/pictures/prohost-api/Ho... 113356954 https://www.airbnb.com/users/show/113356954 Company TurÃ­stic 26/01/2017 LlanÃ§Ã , Spain      Somos una empresa de servicios inmobiliarios co... within an hour 98%  100% f https://a0.muscache.com/im/pictures/user/89f37b... https://a0.muscache.com/im/pictures/user/89f37b... NaN 129.0 358.0 ['email', 'phone', 'work_email'] t t NaN                      LlanÃ§Ã  NaN          NaN   \n",
              "30922636 https://www.airbnb.com/rooms/30922636 2.023030e+13 01/04/2023 city scrape fanÃ©-mar 5 - apartment with spectacular views,... Apartment in 1st line of the sea located in Fan... NaN                                                https://a0.muscache.com/pictures/prohost-api/Ho... 113356954 https://www.airbnb.com/users/show/113356954 Company TurÃ­stic 26/01/2017 LlanÃ§Ã , Spain      Somos una empresa de servicios inmobiliarios co... within an hour 98%  100% f https://a0.muscache.com/im/pictures/user/89f37b... https://a0.muscache.com/im/pictures/user/89f37b... NaN 129.0 358.0 ['email', 'phone', 'work_email'] t t NaN                      LlanÃ§Ã  NaN          NaN   \n",
              "\n",
              "                                                                                                                                                                                                                                                                                                                                                                                                                                                                                                                                                                                                                                                                                       $148.00  \\\n",
              "31143313 https://www.airbnb.com/rooms/31143313 2.023030e+13 01/04/2023 city scrape Eiffel Bridge Boutique Apartment                   Eiffel Bridge Boutique Apartment Ã©s un espai i... El barri del Mercadal es troba en el centre de ... https://a0.muscache.com/pictures/28daaa66-ba8c-... 12451344  https://www.airbnb.com/users/show/12451344  Alexandre         14/04/2016 Girona, Spain        Nacido en Girona y enamorado de mi ciudad. Prof... within an hour 100% 95%  t https://a0.muscache.com/im/pictures/user/4a5078... https://a0.muscache.com/im/pictures/user/4a5078... NaN 2.0   2.0   ['email', 'phone']               t t Girona, Catalunya, Spain Girona   NaN      NaN   \n",
              "30920857 https://www.airbnb.com/rooms/30920857 2.023030e+13 01/04/2023 city scrape Cozy Holiday Home in Calonge with Private Pool     Why stay here<br /><br />Lying at 6 km from the... NaN                                                https://a0.muscache.com/pictures/37e8bf04-b168-... 122175936 https://www.airbnb.com/users/show/122175936 Laura - BELVILLA  23/03/2017 ZÃ¼rich, Switzerland Hi, Iâm Laura. Iâm part of the Belvilla Cus... within an hour 100% 100% f https://a0.muscache.com/im/pictures/user/fc8aad... https://a0.muscache.com/im/pictures/user/fc8aad... NaN 255.0 329.0 ['email', 'phone']               t t NaN                      Calonge  NaN      NaN   \n",
              "30922616 https://www.airbnb.com/rooms/30922616 2.023030e+13 01/04/2023 city scrape balmes - apartment with magnificent sea views      Apartment with magnificent sea views, located i... NaN                                                https://a0.muscache.com/pictures/prohost-api/Ho... 113356954 https://www.airbnb.com/users/show/113356954 Company TurÃ­stic 26/01/2017 LlanÃ§Ã , Spain      Somos una empresa de servicios inmobiliarios co... within an hour 98%  100% f https://a0.muscache.com/im/pictures/user/89f37b... https://a0.muscache.com/im/pictures/user/89f37b... NaN 129.0 358.0 ['email', 'phone', 'work_email'] t t NaN                      LlanÃ§Ã  NaN      NaN   \n",
              "30922622 https://www.airbnb.com/rooms/30922622 2.023030e+13 01/04/2023 city scrape casa paradis - semi-detached house with panoramic  Beautiful house with magnificent sea views in G... NaN                                                https://a0.muscache.com/pictures/prohost-api/Ho... 113356954 https://www.airbnb.com/users/show/113356954 Company TurÃ­stic 26/01/2017 LlanÃ§Ã , Spain      Somos una empresa de servicios inmobiliarios co... within an hour 98%  100% f https://a0.muscache.com/im/pictures/user/89f37b... https://a0.muscache.com/im/pictures/user/89f37b... NaN 129.0 358.0 ['email', 'phone', 'work_email'] t t NaN                      LlanÃ§Ã  NaN      NaN   \n",
              "30922636 https://www.airbnb.com/rooms/30922636 2.023030e+13 01/04/2023 city scrape fanÃ©-mar 5 - apartment with spectacular views,... Apartment in 1st line of the sea located in Fan... NaN                                                https://a0.muscache.com/pictures/prohost-api/Ho... 113356954 https://www.airbnb.com/users/show/113356954 Company TurÃ­stic 26/01/2017 LlanÃ§Ã , Spain      Somos una empresa de servicios inmobiliarios co... within an hour 98%  100% f https://a0.muscache.com/im/pictures/user/89f37b... https://a0.muscache.com/im/pictures/user/89f37b... NaN 129.0 358.0 ['email', 'phone', 'work_email'] t t NaN                      LlanÃ§Ã  NaN      NaN   \n",
              "\n",
              "                                                                                                                                                                                                                                                                                                                                                                                                                                                                                                                                                                                                                                                                                        t  \\\n",
              "31143313 https://www.airbnb.com/rooms/31143313 2.023030e+13 01/04/2023 city scrape Eiffel Bridge Boutique Apartment                   Eiffel Bridge Boutique Apartment Ã©s un espai i... El barri del Mercadal es troba en el centre de ... https://a0.muscache.com/pictures/28daaa66-ba8c-... 12451344  https://www.airbnb.com/users/show/12451344  Alexandre         14/04/2016 Girona, Spain        Nacido en Girona y enamorado de mi ciudad. Prof... within an hour 100% 95%  t https://a0.muscache.com/im/pictures/user/4a5078... https://a0.muscache.com/im/pictures/user/4a5078... NaN 2.0   2.0   ['email', 'phone']               t t Girona, Catalunya, Spain Girona   NaN NaN   \n",
              "30920857 https://www.airbnb.com/rooms/30920857 2.023030e+13 01/04/2023 city scrape Cozy Holiday Home in Calonge with Private Pool     Why stay here<br /><br />Lying at 6 km from the... NaN                                                https://a0.muscache.com/pictures/37e8bf04-b168-... 122175936 https://www.airbnb.com/users/show/122175936 Laura - BELVILLA  23/03/2017 ZÃ¼rich, Switzerland Hi, Iâm Laura. Iâm part of the Belvilla Cus... within an hour 100% 100% f https://a0.muscache.com/im/pictures/user/fc8aad... https://a0.muscache.com/im/pictures/user/fc8aad... NaN 255.0 329.0 ['email', 'phone']               t t NaN                      Calonge  NaN NaN   \n",
              "30922616 https://www.airbnb.com/rooms/30922616 2.023030e+13 01/04/2023 city scrape balmes - apartment with magnificent sea views      Apartment with magnificent sea views, located i... NaN                                                https://a0.muscache.com/pictures/prohost-api/Ho... 113356954 https://www.airbnb.com/users/show/113356954 Company TurÃ­stic 26/01/2017 LlanÃ§Ã , Spain      Somos una empresa de servicios inmobiliarios co... within an hour 98%  100% f https://a0.muscache.com/im/pictures/user/89f37b... https://a0.muscache.com/im/pictures/user/89f37b... NaN 129.0 358.0 ['email', 'phone', 'work_email'] t t NaN                      LlanÃ§Ã  NaN NaN   \n",
              "30922622 https://www.airbnb.com/rooms/30922622 2.023030e+13 01/04/2023 city scrape casa paradis - semi-detached house with panoramic  Beautiful house with magnificent sea views in G... NaN                                                https://a0.muscache.com/pictures/prohost-api/Ho... 113356954 https://www.airbnb.com/users/show/113356954 Company TurÃ­stic 26/01/2017 LlanÃ§Ã , Spain      Somos una empresa de servicios inmobiliarios co... within an hour 98%  100% f https://a0.muscache.com/im/pictures/user/89f37b... https://a0.muscache.com/im/pictures/user/89f37b... NaN 129.0 358.0 ['email', 'phone', 'work_email'] t t NaN                      LlanÃ§Ã  NaN NaN   \n",
              "30922636 https://www.airbnb.com/rooms/30922636 2.023030e+13 01/04/2023 city scrape fanÃ©-mar 5 - apartment with spectacular views,... Apartment in 1st line of the sea located in Fan... NaN                                                https://a0.muscache.com/pictures/prohost-api/Ho... 113356954 https://www.airbnb.com/users/show/113356954 Company TurÃ­stic 26/01/2017 LlanÃ§Ã , Spain      Somos una empresa de servicios inmobiliarios co... within an hour 98%  100% f https://a0.muscache.com/im/pictures/user/89f37b... https://a0.muscache.com/im/pictures/user/89f37b... NaN 129.0 358.0 ['email', 'phone', 'work_email'] t t NaN                      LlanÃ§Ã  NaN NaN   \n",
              "\n",
              "                                                                                                                                                                                                                                                                                                                                                                                                                                                                                                                                                                                                                                                                                       01/04/2023  \\\n",
              "31143313 https://www.airbnb.com/rooms/31143313 2.023030e+13 01/04/2023 city scrape Eiffel Bridge Boutique Apartment                   Eiffel Bridge Boutique Apartment Ã©s un espai i... El barri del Mercadal es troba en el centre de ... https://a0.muscache.com/pictures/28daaa66-ba8c-... 12451344  https://www.airbnb.com/users/show/12451344  Alexandre         14/04/2016 Girona, Spain        Nacido en Girona y enamorado de mi ciudad. Prof... within an hour 100% 95%  t https://a0.muscache.com/im/pictures/user/4a5078... https://a0.muscache.com/im/pictures/user/4a5078... NaN 2.0   2.0   ['email', 'phone']               t t Girona, Catalunya, Spain Girona   NaN         NaN   \n",
              "30920857 https://www.airbnb.com/rooms/30920857 2.023030e+13 01/04/2023 city scrape Cozy Holiday Home in Calonge with Private Pool     Why stay here<br /><br />Lying at 6 km from the... NaN                                                https://a0.muscache.com/pictures/37e8bf04-b168-... 122175936 https://www.airbnb.com/users/show/122175936 Laura - BELVILLA  23/03/2017 ZÃ¼rich, Switzerland Hi, Iâm Laura. Iâm part of the Belvilla Cus... within an hour 100% 100% f https://a0.muscache.com/im/pictures/user/fc8aad... https://a0.muscache.com/im/pictures/user/fc8aad... NaN 255.0 329.0 ['email', 'phone']               t t NaN                      Calonge  NaN         NaN   \n",
              "30922616 https://www.airbnb.com/rooms/30922616 2.023030e+13 01/04/2023 city scrape balmes - apartment with magnificent sea views      Apartment with magnificent sea views, located i... NaN                                                https://a0.muscache.com/pictures/prohost-api/Ho... 113356954 https://www.airbnb.com/users/show/113356954 Company TurÃ­stic 26/01/2017 LlanÃ§Ã , Spain      Somos una empresa de servicios inmobiliarios co... within an hour 98%  100% f https://a0.muscache.com/im/pictures/user/89f37b... https://a0.muscache.com/im/pictures/user/89f37b... NaN 129.0 358.0 ['email', 'phone', 'work_email'] t t NaN                      LlanÃ§Ã  NaN         NaN   \n",
              "30922622 https://www.airbnb.com/rooms/30922622 2.023030e+13 01/04/2023 city scrape casa paradis - semi-detached house with panoramic  Beautiful house with magnificent sea views in G... NaN                                                https://a0.muscache.com/pictures/prohost-api/Ho... 113356954 https://www.airbnb.com/users/show/113356954 Company TurÃ­stic 26/01/2017 LlanÃ§Ã , Spain      Somos una empresa de servicios inmobiliarios co... within an hour 98%  100% f https://a0.muscache.com/im/pictures/user/89f37b... https://a0.muscache.com/im/pictures/user/89f37b... NaN 129.0 358.0 ['email', 'phone', 'work_email'] t t NaN                      LlanÃ§Ã  NaN         NaN   \n",
              "30922636 https://www.airbnb.com/rooms/30922636 2.023030e+13 01/04/2023 city scrape fanÃ©-mar 5 - apartment with spectacular views,... Apartment in 1st line of the sea located in Fan... NaN                                                https://a0.muscache.com/pictures/prohost-api/Ho... 113356954 https://www.airbnb.com/users/show/113356954 Company TurÃ­stic 26/01/2017 LlanÃ§Ã , Spain      Somos una empresa de servicios inmobiliarios co... within an hour 98%  100% f https://a0.muscache.com/im/pictures/user/89f37b... https://a0.muscache.com/im/pictures/user/89f37b... NaN 129.0 358.0 ['email', 'phone', 'work_email'] t t NaN                      LlanÃ§Ã  NaN         NaN   \n",
              "\n",
              "                                                                                                                                                                                                                                                                                                                                                                                                                                                                                                                                                                                                                                                                                       Unnamed: 29  \\\n",
              "31143313 https://www.airbnb.com/rooms/31143313 2.023030e+13 01/04/2023 city scrape Eiffel Bridge Boutique Apartment                   Eiffel Bridge Boutique Apartment Ã©s un espai i... El barri del Mercadal es troba en el centre de ... https://a0.muscache.com/pictures/28daaa66-ba8c-... 12451344  https://www.airbnb.com/users/show/12451344  Alexandre         14/04/2016 Girona, Spain        Nacido en Girona y enamorado de mi ciudad. Prof... within an hour 100% 95%  t https://a0.muscache.com/im/pictures/user/4a5078... https://a0.muscache.com/im/pictures/user/4a5078... NaN 2.0   2.0   ['email', 'phone']               t t Girona, Catalunya, Spain Girona   NaN          NaN   \n",
              "30920857 https://www.airbnb.com/rooms/30920857 2.023030e+13 01/04/2023 city scrape Cozy Holiday Home in Calonge with Private Pool     Why stay here<br /><br />Lying at 6 km from the... NaN                                                https://a0.muscache.com/pictures/37e8bf04-b168-... 122175936 https://www.airbnb.com/users/show/122175936 Laura - BELVILLA  23/03/2017 ZÃ¼rich, Switzerland Hi, Iâm Laura. Iâm part of the Belvilla Cus... within an hour 100% 100% f https://a0.muscache.com/im/pictures/user/fc8aad... https://a0.muscache.com/im/pictures/user/fc8aad... NaN 255.0 329.0 ['email', 'phone']               t t NaN                      Calonge  NaN          NaN   \n",
              "30922616 https://www.airbnb.com/rooms/30922616 2.023030e+13 01/04/2023 city scrape balmes - apartment with magnificent sea views      Apartment with magnificent sea views, located i... NaN                                                https://a0.muscache.com/pictures/prohost-api/Ho... 113356954 https://www.airbnb.com/users/show/113356954 Company TurÃ­stic 26/01/2017 LlanÃ§Ã , Spain      Somos una empresa de servicios inmobiliarios co... within an hour 98%  100% f https://a0.muscache.com/im/pictures/user/89f37b... https://a0.muscache.com/im/pictures/user/89f37b... NaN 129.0 358.0 ['email', 'phone', 'work_email'] t t NaN                      LlanÃ§Ã  NaN          NaN   \n",
              "30922622 https://www.airbnb.com/rooms/30922622 2.023030e+13 01/04/2023 city scrape casa paradis - semi-detached house with panoramic  Beautiful house with magnificent sea views in G... NaN                                                https://a0.muscache.com/pictures/prohost-api/Ho... 113356954 https://www.airbnb.com/users/show/113356954 Company TurÃ­stic 26/01/2017 LlanÃ§Ã , Spain      Somos una empresa de servicios inmobiliarios co... within an hour 98%  100% f https://a0.muscache.com/im/pictures/user/89f37b... https://a0.muscache.com/im/pictures/user/89f37b... NaN 129.0 358.0 ['email', 'phone', 'work_email'] t t NaN                      LlanÃ§Ã  NaN          NaN   \n",
              "30922636 https://www.airbnb.com/rooms/30922636 2.023030e+13 01/04/2023 city scrape fanÃ©-mar 5 - apartment with spectacular views,... Apartment in 1st line of the sea located in Fan... NaN                                                https://a0.muscache.com/pictures/prohost-api/Ho... 113356954 https://www.airbnb.com/users/show/113356954 Company TurÃ­stic 26/01/2017 LlanÃ§Ã , Spain      Somos una empresa de servicios inmobiliarios co... within an hour 98%  100% f https://a0.muscache.com/im/pictures/user/89f37b... https://a0.muscache.com/im/pictures/user/89f37b... NaN 129.0 358.0 ['email', 'phone', 'work_email'] t t NaN                      LlanÃ§Ã  NaN          NaN   \n",
              "\n",
              "                                                                                                                                                                                                                                                                                                                                                                                                                                                                                                                                                                                                                                                                                       Unnamed: 30  \\\n",
              "31143313 https://www.airbnb.com/rooms/31143313 2.023030e+13 01/04/2023 city scrape Eiffel Bridge Boutique Apartment                   Eiffel Bridge Boutique Apartment Ã©s un espai i... El barri del Mercadal es troba en el centre de ... https://a0.muscache.com/pictures/28daaa66-ba8c-... 12451344  https://www.airbnb.com/users/show/12451344  Alexandre         14/04/2016 Girona, Spain        Nacido en Girona y enamorado de mi ciudad. Prof... within an hour 100% 95%  t https://a0.muscache.com/im/pictures/user/4a5078... https://a0.muscache.com/im/pictures/user/4a5078... NaN 2.0   2.0   ['email', 'phone']               t t Girona, Catalunya, Spain Girona   NaN          NaN   \n",
              "30920857 https://www.airbnb.com/rooms/30920857 2.023030e+13 01/04/2023 city scrape Cozy Holiday Home in Calonge with Private Pool     Why stay here<br /><br />Lying at 6 km from the... NaN                                                https://a0.muscache.com/pictures/37e8bf04-b168-... 122175936 https://www.airbnb.com/users/show/122175936 Laura - BELVILLA  23/03/2017 ZÃ¼rich, Switzerland Hi, Iâm Laura. Iâm part of the Belvilla Cus... within an hour 100% 100% f https://a0.muscache.com/im/pictures/user/fc8aad... https://a0.muscache.com/im/pictures/user/fc8aad... NaN 255.0 329.0 ['email', 'phone']               t t NaN                      Calonge  NaN          NaN   \n",
              "30922616 https://www.airbnb.com/rooms/30922616 2.023030e+13 01/04/2023 city scrape balmes - apartment with magnificent sea views      Apartment with magnificent sea views, located i... NaN                                                https://a0.muscache.com/pictures/prohost-api/Ho... 113356954 https://www.airbnb.com/users/show/113356954 Company TurÃ­stic 26/01/2017 LlanÃ§Ã , Spain      Somos una empresa de servicios inmobiliarios co... within an hour 98%  100% f https://a0.muscache.com/im/pictures/user/89f37b... https://a0.muscache.com/im/pictures/user/89f37b... NaN 129.0 358.0 ['email', 'phone', 'work_email'] t t NaN                      LlanÃ§Ã  NaN          NaN   \n",
              "30922622 https://www.airbnb.com/rooms/30922622 2.023030e+13 01/04/2023 city scrape casa paradis - semi-detached house with panoramic  Beautiful house with magnificent sea views in G... NaN                                                https://a0.muscache.com/pictures/prohost-api/Ho... 113356954 https://www.airbnb.com/users/show/113356954 Company TurÃ­stic 26/01/2017 LlanÃ§Ã , Spain      Somos una empresa de servicios inmobiliarios co... within an hour 98%  100% f https://a0.muscache.com/im/pictures/user/89f37b... https://a0.muscache.com/im/pictures/user/89f37b... NaN 129.0 358.0 ['email', 'phone', 'work_email'] t t NaN                      LlanÃ§Ã  NaN          NaN   \n",
              "30922636 https://www.airbnb.com/rooms/30922636 2.023030e+13 01/04/2023 city scrape fanÃ©-mar 5 - apartment with spectacular views,... Apartment in 1st line of the sea located in Fan... NaN                                                https://a0.muscache.com/pictures/prohost-api/Ho... 113356954 https://www.airbnb.com/users/show/113356954 Company TurÃ­stic 26/01/2017 LlanÃ§Ã , Spain      Somos una empresa de servicios inmobiliarios co... within an hour 98%  100% f https://a0.muscache.com/im/pictures/user/89f37b... https://a0.muscache.com/im/pictures/user/89f37b... NaN 129.0 358.0 ['email', 'phone', 'work_email'] t t NaN                      LlanÃ§Ã  NaN          NaN   \n",
              "\n",
              "                                                                                                                                                                                                                                                                                                                                                                                                                                                                                                                                                                                                                                                                                       HUTG-026495  \\\n",
              "31143313 https://www.airbnb.com/rooms/31143313 2.023030e+13 01/04/2023 city scrape Eiffel Bridge Boutique Apartment                   Eiffel Bridge Boutique Apartment Ã©s un espai i... El barri del Mercadal es troba en el centre de ... https://a0.muscache.com/pictures/28daaa66-ba8c-... 12451344  https://www.airbnb.com/users/show/12451344  Alexandre         14/04/2016 Girona, Spain        Nacido en Girona y enamorado de mi ciudad. Prof... within an hour 100% 95%  t https://a0.muscache.com/im/pictures/user/4a5078... https://a0.muscache.com/im/pictures/user/4a5078... NaN 2.0   2.0   ['email', 'phone']               t t Girona, Catalunya, Spain Girona   NaN          NaN   \n",
              "30920857 https://www.airbnb.com/rooms/30920857 2.023030e+13 01/04/2023 city scrape Cozy Holiday Home in Calonge with Private Pool     Why stay here<br /><br />Lying at 6 km from the... NaN                                                https://a0.muscache.com/pictures/37e8bf04-b168-... 122175936 https://www.airbnb.com/users/show/122175936 Laura - BELVILLA  23/03/2017 ZÃ¼rich, Switzerland Hi, Iâm Laura. Iâm part of the Belvilla Cus... within an hour 100% 100% f https://a0.muscache.com/im/pictures/user/fc8aad... https://a0.muscache.com/im/pictures/user/fc8aad... NaN 255.0 329.0 ['email', 'phone']               t t NaN                      Calonge  NaN          NaN   \n",
              "30922616 https://www.airbnb.com/rooms/30922616 2.023030e+13 01/04/2023 city scrape balmes - apartment with magnificent sea views      Apartment with magnificent sea views, located i... NaN                                                https://a0.muscache.com/pictures/prohost-api/Ho... 113356954 https://www.airbnb.com/users/show/113356954 Company TurÃ­stic 26/01/2017 LlanÃ§Ã , Spain      Somos una empresa de servicios inmobiliarios co... within an hour 98%  100% f https://a0.muscache.com/im/pictures/user/89f37b... https://a0.muscache.com/im/pictures/user/89f37b... NaN 129.0 358.0 ['email', 'phone', 'work_email'] t t NaN                      LlanÃ§Ã  NaN          NaN   \n",
              "30922622 https://www.airbnb.com/rooms/30922622 2.023030e+13 01/04/2023 city scrape casa paradis - semi-detached house with panoramic  Beautiful house with magnificent sea views in G... NaN                                                https://a0.muscache.com/pictures/prohost-api/Ho... 113356954 https://www.airbnb.com/users/show/113356954 Company TurÃ­stic 26/01/2017 LlanÃ§Ã , Spain      Somos una empresa de servicios inmobiliarios co... within an hour 98%  100% f https://a0.muscache.com/im/pictures/user/89f37b... https://a0.muscache.com/im/pictures/user/89f37b... NaN 129.0 358.0 ['email', 'phone', 'work_email'] t t NaN                      LlanÃ§Ã  NaN          NaN   \n",
              "30922636 https://www.airbnb.com/rooms/30922636 2.023030e+13 01/04/2023 city scrape fanÃ©-mar 5 - apartment with spectacular views,... Apartment in 1st line of the sea located in Fan... NaN                                                https://a0.muscache.com/pictures/prohost-api/Ho... 113356954 https://www.airbnb.com/users/show/113356954 Company TurÃ­stic 26/01/2017 LlanÃ§Ã , Spain      Somos una empresa de servicios inmobiliarios co... within an hour 98%  100% f https://a0.muscache.com/im/pictures/user/89f37b... https://a0.muscache.com/im/pictures/user/89f37b... NaN 129.0 358.0 ['email', 'phone', 'work_email'] t t NaN                      LlanÃ§Ã  NaN          NaN   \n",
              "\n",
              "                                                                                                                                                                                                                                                                                                                                                                                                                                                                                                                                                                                                                                                                                       t.1  \n",
              "31143313 https://www.airbnb.com/rooms/31143313 2.023030e+13 01/04/2023 city scrape Eiffel Bridge Boutique Apartment                   Eiffel Bridge Boutique Apartment Ã©s un espai i... El barri del Mercadal es troba en el centre de ... https://a0.muscache.com/pictures/28daaa66-ba8c-... 12451344  https://www.airbnb.com/users/show/12451344  Alexandre         14/04/2016 Girona, Spain        Nacido en Girona y enamorado de mi ciudad. Prof... within an hour 100% 95%  t https://a0.muscache.com/im/pictures/user/4a5078... https://a0.muscache.com/im/pictures/user/4a5078... NaN 2.0   2.0   ['email', 'phone']               t t Girona, Catalunya, Spain Girona   NaN  NaN  \n",
              "30920857 https://www.airbnb.com/rooms/30920857 2.023030e+13 01/04/2023 city scrape Cozy Holiday Home in Calonge with Private Pool     Why stay here<br /><br />Lying at 6 km from the... NaN                                                https://a0.muscache.com/pictures/37e8bf04-b168-... 122175936 https://www.airbnb.com/users/show/122175936 Laura - BELVILLA  23/03/2017 ZÃ¼rich, Switzerland Hi, Iâm Laura. Iâm part of the Belvilla Cus... within an hour 100% 100% f https://a0.muscache.com/im/pictures/user/fc8aad... https://a0.muscache.com/im/pictures/user/fc8aad... NaN 255.0 329.0 ['email', 'phone']               t t NaN                      Calonge  NaN  NaN  \n",
              "30922616 https://www.airbnb.com/rooms/30922616 2.023030e+13 01/04/2023 city scrape balmes - apartment with magnificent sea views      Apartment with magnificent sea views, located i... NaN                                                https://a0.muscache.com/pictures/prohost-api/Ho... 113356954 https://www.airbnb.com/users/show/113356954 Company TurÃ­stic 26/01/2017 LlanÃ§Ã , Spain      Somos una empresa de servicios inmobiliarios co... within an hour 98%  100% f https://a0.muscache.com/im/pictures/user/89f37b... https://a0.muscache.com/im/pictures/user/89f37b... NaN 129.0 358.0 ['email', 'phone', 'work_email'] t t NaN                      LlanÃ§Ã  NaN  NaN  \n",
              "30922622 https://www.airbnb.com/rooms/30922622 2.023030e+13 01/04/2023 city scrape casa paradis - semi-detached house with panoramic  Beautiful house with magnificent sea views in G... NaN                                                https://a0.muscache.com/pictures/prohost-api/Ho... 113356954 https://www.airbnb.com/users/show/113356954 Company TurÃ­stic 26/01/2017 LlanÃ§Ã , Spain      Somos una empresa de servicios inmobiliarios co... within an hour 98%  100% f https://a0.muscache.com/im/pictures/user/89f37b... https://a0.muscache.com/im/pictures/user/89f37b... NaN 129.0 358.0 ['email', 'phone', 'work_email'] t t NaN                      LlanÃ§Ã  NaN  NaN  \n",
              "30922636 https://www.airbnb.com/rooms/30922636 2.023030e+13 01/04/2023 city scrape fanÃ©-mar 5 - apartment with spectacular views,... Apartment in 1st line of the sea located in Fan... NaN                                                https://a0.muscache.com/pictures/prohost-api/Ho... 113356954 https://www.airbnb.com/users/show/113356954 Company TurÃ­stic 26/01/2017 LlanÃ§Ã , Spain      Somos una empresa de servicios inmobiliarios co... within an hour 98%  100% f https://a0.muscache.com/im/pictures/user/89f37b... https://a0.muscache.com/im/pictures/user/89f37b... NaN 129.0 358.0 ['email', 'phone', 'work_email'] t t NaN                      LlanÃ§Ã  NaN  NaN  \n",
              "\n",
              "[5 rows x 45 columns]"
            ],
            "text/html": [
              "\n",
              "  <div id=\"df-339b0a78-3ecf-42b5-8092-75ffc1c2e958\">\n",
              "    <div class=\"colab-df-container\">\n",
              "      <div>\n",
              "<style scoped>\n",
              "    .dataframe tbody tr th:only-of-type {\n",
              "        vertical-align: middle;\n",
              "    }\n",
              "\n",
              "    .dataframe tbody tr th {\n",
              "        vertical-align: top;\n",
              "    }\n",
              "\n",
              "    .dataframe thead th {\n",
              "        text-align: right;\n",
              "    }\n",
              "</style>\n",
              "<table border=\"1\" class=\"dataframe\">\n",
              "  <thead>\n",
              "    <tr style=\"text-align: right;\">\n",
              "      <th></th>\n",
              "      <th></th>\n",
              "      <th></th>\n",
              "      <th></th>\n",
              "      <th></th>\n",
              "      <th></th>\n",
              "      <th></th>\n",
              "      <th></th>\n",
              "      <th></th>\n",
              "      <th></th>\n",
              "      <th></th>\n",
              "      <th></th>\n",
              "      <th></th>\n",
              "      <th></th>\n",
              "      <th></th>\n",
              "      <th></th>\n",
              "      <th></th>\n",
              "      <th></th>\n",
              "      <th></th>\n",
              "      <th></th>\n",
              "      <th></th>\n",
              "      <th></th>\n",
              "      <th></th>\n",
              "      <th></th>\n",
              "      <th></th>\n",
              "      <th></th>\n",
              "      <th></th>\n",
              "      <th></th>\n",
              "      <th></th>\n",
              "      <th></th>\n",
              "      <th>conditioning\"\"</th>\n",
              "      <th>\"\"Oven\"\"</th>\n",
              "      <th>\"\"Free parking on premises\"\"</th>\n",
              "      <th>\"\"Outdoor dining area\"\"</th>\n",
              "      <th>\"\"Refrigerator\"\"</th>\n",
              "      <th>\"\"TV\"\"</th>\n",
              "      <th>7</th>\n",
              "      <th>365</th>\n",
              "      <th>7.1</th>\n",
              "      <th>7.2</th>\n",
              "      <th>...</th>\n",
              "      <th>\"\"BBQ grill\"\"</th>\n",
              "      <th>\"\"Dishes and silverware\"\"</th>\n",
              "      <th>\"\"Wifi\"\"]\"</th>\n",
              "      <th>$148.00</th>\n",
              "      <th>t</th>\n",
              "      <th>01/04/2023</th>\n",
              "      <th>Unnamed: 29</th>\n",
              "      <th>Unnamed: 30</th>\n",
              "      <th>HUTG-026495</th>\n",
              "      <th>t.1</th>\n",
              "    </tr>\n",
              "  </thead>\n",
              "  <tbody>\n",
              "    <tr>\n",
              "      <th>31143313</th>\n",
              "      <th>https://www.airbnb.com/rooms/31143313</th>\n",
              "      <th>2.023030e+13</th>\n",
              "      <th>01/04/2023</th>\n",
              "      <th>city scrape</th>\n",
              "      <th>Eiffel Bridge Boutique Apartment</th>\n",
              "      <th>Eiffel Bridge Boutique Apartment Ã©s un espai ideal per capbussar-se al centre de Girona. Ubicat en lloc un inmillorable, molt a prop de les atraccions mÃ©s emblemÃ¡tiques de la ciutat i els millors bars i restaurants de la ciutat. Forma part del grup âBoutique Homesâ, cases de vacances amb filosofia âSmart-chicâ. Espais pensats per a una gran funcionalitat i amb un disseny sorprenent.&lt;br /&gt;Renovat durant el 2019, ideal per tothom qui vulgui visitar Girona.&lt;br /&gt;&lt;br /&gt;NÃºmero de llicÃ¨ncia: HUTG-040543-22&lt;br /&gt;&lt;br /&gt;&lt;b&gt;The space&lt;/b&gt;&lt;br /&gt;L'apartament estÃ  moblat y equipat al detall amb molt d'amor per tal de que els nostres hostes es puguin sentir cÃ²modes i com a casa. Disposa de tots els estris bÃ sics i necessaris per a una estada genial. L'espai ha estat renovat el 2019 per tal d'oferir les millors comoditats pels nostres hostes.&lt;br /&gt;&lt;br /&gt;Disposa de Wifi i fibra Ã³ptica, Smart TV, aire condicionat, balcÃ³ exterior, dutxa amb efecte pluja i zona de lectura. L'edifici disposa d'ascensor per</th>\n",
              "      <th>El barri del Mercadal es troba en el centre de la ciutat. El riu Onyar (a 2 minuts a peu) separa el casc antic, on hi accedireu creuant el conegut Pont Eiffel, o pont de ferro com en diuen els gironins.</th>\n",
              "      <th>https://a0.muscache.com/pictures/28daaa66-ba8c-48d8-833d-03ce5fbe24d3.jpg</th>\n",
              "      <th>12451344</th>\n",
              "      <th>https://www.airbnb.com/users/show/12451344</th>\n",
              "      <th>Alexandre</th>\n",
              "      <th>14/04/2016</th>\n",
              "      <th>Girona, Spain</th>\n",
              "      <th>Nacido en Girona y enamorado de mi ciudad. Profesional del turismo, con larga experiencia en hoteles y apartamentos. \\r\\nMe encanta conocer culturas, mezclarme con las comunidades locales y conocer mundo. EspÃ­ritu Wanderlust.\\r\\nMi intenciÃ³n es abrir las puertas de mi casa y hacer sentir al huÃ©sped como en la suya disfrutando del territorio donde vivo. \\r\\n\\r\\n\"Viajar es la unica cosa que compras, que te hace mÃ¡s rico\".\\r\\n</th>\n",
              "      <th>within an hour</th>\n",
              "      <th>100%</th>\n",
              "      <th>95%</th>\n",
              "      <th>t</th>\n",
              "      <th>https://a0.muscache.com/im/pictures/user/4a5078d5-d04e-4bb0-968d-cf2f1b0c4e2d.jpg?aki_policy=profile_small</th>\n",
              "      <th>https://a0.muscache.com/im/pictures/user/4a5078d5-d04e-4bb0-968d-cf2f1b0c4e2d.jpg?aki_policy=profile_x_medium</th>\n",
              "      <th>NaN</th>\n",
              "      <th>2.0</th>\n",
              "      <th>2.0</th>\n",
              "      <th>['email', 'phone']</th>\n",
              "      <th>t</th>\n",
              "      <th>t</th>\n",
              "      <th>Girona, Catalunya, Spain</th>\n",
              "      <th>Girona</th>\n",
              "      <th>NaN</th>\n",
              "      <td>41.98519</td>\n",
              "      <td>2.82132</td>\n",
              "      <td>5.0</td>\n",
              "      <td>0.0</td>\n",
              "      <td>2.0</td>\n",
              "      <td>2.0</td>\n",
              "      <td>1.0</td>\n",
              "      <td>60.0</td>\n",
              "      <td>1.0</td>\n",
              "      <td>5.0</td>\n",
              "      <td>...</td>\n",
              "      <td>NaN</td>\n",
              "      <td>NaN</td>\n",
              "      <td>NaN</td>\n",
              "      <td>NaN</td>\n",
              "      <td>NaN</td>\n",
              "      <td>NaN</td>\n",
              "      <td>NaN</td>\n",
              "      <td>NaN</td>\n",
              "      <td>NaN</td>\n",
              "      <td>NaN</td>\n",
              "    </tr>\n",
              "    <tr>\n",
              "      <th>30920857</th>\n",
              "      <th>https://www.airbnb.com/rooms/30920857</th>\n",
              "      <th>2.023030e+13</th>\n",
              "      <th>01/04/2023</th>\n",
              "      <th>city scrape</th>\n",
              "      <th>Cozy Holiday Home in Calonge with Private Pool</th>\n",
              "      <th>Why stay here&lt;br /&gt;&lt;br /&gt;Lying at 6 km from the seabeach, this holiday home in Calonge is great for a holiday on the Spanish coast. The child-friendly holiday rental in Spain has a private swimming pool surrounded by loungers and parasol for a relaxing stay. &lt;br /&gt;&lt;br /&gt;Things to do around&lt;br /&gt;&lt;br /&gt;There's a lot to explore in the hilly surroundings - more Catalan villages and gorgeous bays. To start with, head to Les Gavarres, a breathtaking nature reserve full of walking and biking paths. Next, enjoy the sandy beach of Sant Antoni de Calonge 6 km away. Trips to the capital city of Barcelona, Pyrenees ski resorts, Costa Brava beaches &amp; museums of DalÃ­, Picasso, &amp; GaudÃ­ are all worth it.&lt;br /&gt;&lt;br /&gt;What to expect from the space&lt;br /&gt;&lt;br /&gt;Indoor heating keeps you warm. There are 2 terraces to enjoy barbecuing over charcoal in the evenings. A furnished garden is also at your disposal. For little guests, a children's bed and a high chair are present.&lt;br /&gt;&lt;br /&gt;More for your stay&lt;br /&gt;&lt;</th>\n",
              "      <th>NaN</th>\n",
              "      <th>https://a0.muscache.com/pictures/37e8bf04-b168-4b44-baf9-6a8a1b8c2863.jpg</th>\n",
              "      <th>122175936</th>\n",
              "      <th>https://www.airbnb.com/users/show/122175936</th>\n",
              "      <th>Laura - BELVILLA</th>\n",
              "      <th>23/03/2017</th>\n",
              "      <th>ZÃ¼rich, Switzerland</th>\n",
              "      <th>Hi, Iâm Laura. Iâm part of the Belvilla Customer service team. My colleagues and I are looking forward to assist you when booking our properties on Airbnb. You can count on our support before, during and after your holiday. Any questions? Just let us know!\\r\\n\\r\\nBelvilla is a leading European specialist in the rental of unique, self-catering holiday homes and apartments. We bring more than 35 years of experience in satisfying our guests (you!) and helping them find the perfect holiday. When you stay in a Belvilla home, you can be sure you will enjoy a unique holiday home in ideal surroundings. Weâre looking forward to welcoming you in a Belvilla and love to hear from you!</th>\n",
              "      <th>within an hour</th>\n",
              "      <th>100%</th>\n",
              "      <th>100%</th>\n",
              "      <th>f</th>\n",
              "      <th>https://a0.muscache.com/im/pictures/user/fc8aad91-ff16-47ac-b29d-620ccfffcc86.jpg?aki_policy=profile_small</th>\n",
              "      <th>https://a0.muscache.com/im/pictures/user/fc8aad91-ff16-47ac-b29d-620ccfffcc86.jpg?aki_policy=profile_x_medium</th>\n",
              "      <th>NaN</th>\n",
              "      <th>255.0</th>\n",
              "      <th>329.0</th>\n",
              "      <th>['email', 'phone']</th>\n",
              "      <th>t</th>\n",
              "      <th>t</th>\n",
              "      <th>NaN</th>\n",
              "      <th>Calonge</th>\n",
              "      <th>NaN</th>\n",
              "      <td>41.87586</td>\n",
              "      <td>3.07226</td>\n",
              "      <td>6.0</td>\n",
              "      <td>0.0</td>\n",
              "      <td>3.0</td>\n",
              "      <td>8.0</td>\n",
              "      <td>1.0</td>\n",
              "      <td>28.0</td>\n",
              "      <td>1.0</td>\n",
              "      <td>7.0</td>\n",
              "      <td>...</td>\n",
              "      <td>NaN</td>\n",
              "      <td>NaN</td>\n",
              "      <td>NaN</td>\n",
              "      <td>NaN</td>\n",
              "      <td>NaN</td>\n",
              "      <td>NaN</td>\n",
              "      <td>NaN</td>\n",
              "      <td>NaN</td>\n",
              "      <td>NaN</td>\n",
              "      <td>NaN</td>\n",
              "    </tr>\n",
              "    <tr>\n",
              "      <th>30922616</th>\n",
              "      <th>https://www.airbnb.com/rooms/30922616</th>\n",
              "      <th>2.023030e+13</th>\n",
              "      <th>01/04/2023</th>\n",
              "      <th>city scrape</th>\n",
              "      <th>balmes - apartment with magnificent sea views</th>\n",
              "      <th>Apartment with magnificent sea views, located in FanÃ© de Dalt, 1 km. away from the beach and 3.5 km. away from LlanÃ§Ã  center. It has 1 bedroom with double bed, bright living-dining room with sofa-bed, kitchen, bathroom and terrace with panoramic sea views. Amenities: satellite TV, oven, microwave and washing machine. It includes outdoor parking space. The accomodation is ideal for those people who are looking for a quiet and cozy place to enjoy the picturesque views of the coast in Cap de Creus.&lt;br /&gt;&lt;br /&gt;&lt;b&gt;Other things to note&lt;/b&gt;&lt;br /&gt;Apartment with magnificent sea views, located in FanÃ© de Dalt, 1 km. away from the beach and 3.5 km. away from LlanÃ§Ã  center. It has 1 bedroom with double bed, bright living-dining room with sofa-bed, kitchen, bathroom and terrace with panoramic sea views. Amenities: satellite TV, oven, microwave and washing machine. It includes outdoor parking space. The accomodation is ideal for those people who are looking for a quiet and cozy place to enjoy the pi</th>\n",
              "      <th>NaN</th>\n",
              "      <th>https://a0.muscache.com/pictures/prohost-api/Hosting-30922616/original/bae2c57b-8a18-4607-a2d1-0596875e57e4.jpeg</th>\n",
              "      <th>113356954</th>\n",
              "      <th>https://www.airbnb.com/users/show/113356954</th>\n",
              "      <th>Company TurÃ­stic</th>\n",
              "      <th>26/01/2017</th>\n",
              "      <th>LlanÃ§Ã , Spain</th>\n",
              "      <th>Somos una empresa de servicios inmobiliarios con una larga trayectoria profesional, el aÃ±o 1.963 hicimos 50 aÃ±os. Nuestro equipo de 50 personas repartidas en cuatro oficinas en la zona de la Costa Brava, con dominio de varios idiomas, garantiza a nuestros clientes un servicio profesional y de calidad. Ofrecemos una amplia variedad de alojamientos de vacaciones, desde apartamentos de una habitaciÃ³n a casas con piscina en Companyturistic de Finques Company.</th>\n",
              "      <th>within an hour</th>\n",
              "      <th>98%</th>\n",
              "      <th>100%</th>\n",
              "      <th>f</th>\n",
              "      <th>https://a0.muscache.com/im/pictures/user/89f37b93-9063-4eec-b43d-356056a7ff1f.jpg?aki_policy=profile_small</th>\n",
              "      <th>https://a0.muscache.com/im/pictures/user/89f37b93-9063-4eec-b43d-356056a7ff1f.jpg?aki_policy=profile_x_medium</th>\n",
              "      <th>NaN</th>\n",
              "      <th>129.0</th>\n",
              "      <th>358.0</th>\n",
              "      <th>['email', 'phone', 'work_email']</th>\n",
              "      <th>t</th>\n",
              "      <th>t</th>\n",
              "      <th>NaN</th>\n",
              "      <th>LlanÃ§Ã</th>\n",
              "      <th>NaN</th>\n",
              "      <td>42.35457</td>\n",
              "      <td>3.16632</td>\n",
              "      <td>4.0</td>\n",
              "      <td>0.0</td>\n",
              "      <td>1.0</td>\n",
              "      <td>2.0</td>\n",
              "      <td>1.0</td>\n",
              "      <td>1125.0</td>\n",
              "      <td>1.0</td>\n",
              "      <td>14.0</td>\n",
              "      <td>...</td>\n",
              "      <td>NaN</td>\n",
              "      <td>NaN</td>\n",
              "      <td>NaN</td>\n",
              "      <td>NaN</td>\n",
              "      <td>NaN</td>\n",
              "      <td>NaN</td>\n",
              "      <td>NaN</td>\n",
              "      <td>NaN</td>\n",
              "      <td>NaN</td>\n",
              "      <td>NaN</td>\n",
              "    </tr>\n",
              "    <tr>\n",
              "      <th>30922622</th>\n",
              "      <th>https://www.airbnb.com/rooms/30922622</th>\n",
              "      <th>2.023030e+13</th>\n",
              "      <th>01/04/2023</th>\n",
              "      <th>city scrape</th>\n",
              "      <th>casa paradis - semi-detached house with panoramic</th>\n",
              "      <th>Beautiful house with magnificent sea views in Grifeu area. One kilometer from the beach and three kilometers from the center. It has three bedrooms (two double with double bed) one with bunks, a dining room with Satelit TV, an equipped kitchen, a bathroom with bath and a toilet with a shower. Provided with air conditioning. In addition it has a paved garden a large garage and communal pool. HUTG-027879&lt;br /&gt;&lt;br /&gt;&lt;b&gt;Other things to note&lt;/b&gt;&lt;br /&gt;Optional services (not included in the price)&lt;br /&gt;&lt;br /&gt;Linen and Towels per person: 15,00 â¬ &lt;br /&gt;&lt;br /&gt;Supplement pets: 30,00 â¬&lt;br /&gt;&lt;br /&gt;&lt;b&gt;License number&lt;/b&gt;&lt;br /&gt;HUTG-027879</th>\n",
              "      <th>NaN</th>\n",
              "      <th>https://a0.muscache.com/pictures/prohost-api/Hosting-30922622/original/3c1609f3-8663-47f0-8067-039086198878.jpeg</th>\n",
              "      <th>113356954</th>\n",
              "      <th>https://www.airbnb.com/users/show/113356954</th>\n",
              "      <th>Company TurÃ­stic</th>\n",
              "      <th>26/01/2017</th>\n",
              "      <th>LlanÃ§Ã , Spain</th>\n",
              "      <th>Somos una empresa de servicios inmobiliarios con una larga trayectoria profesional, el aÃ±o 1.963 hicimos 50 aÃ±os. Nuestro equipo de 50 personas repartidas en cuatro oficinas en la zona de la Costa Brava, con dominio de varios idiomas, garantiza a nuestros clientes un servicio profesional y de calidad. Ofrecemos una amplia variedad de alojamientos de vacaciones, desde apartamentos de una habitaciÃ³n a casas con piscina en Companyturistic de Finques Company.</th>\n",
              "      <th>within an hour</th>\n",
              "      <th>98%</th>\n",
              "      <th>100%</th>\n",
              "      <th>f</th>\n",
              "      <th>https://a0.muscache.com/im/pictures/user/89f37b93-9063-4eec-b43d-356056a7ff1f.jpg?aki_policy=profile_small</th>\n",
              "      <th>https://a0.muscache.com/im/pictures/user/89f37b93-9063-4eec-b43d-356056a7ff1f.jpg?aki_policy=profile_x_medium</th>\n",
              "      <th>NaN</th>\n",
              "      <th>129.0</th>\n",
              "      <th>358.0</th>\n",
              "      <th>['email', 'phone', 'work_email']</th>\n",
              "      <th>t</th>\n",
              "      <th>t</th>\n",
              "      <th>NaN</th>\n",
              "      <th>LlanÃ§Ã</th>\n",
              "      <th>NaN</th>\n",
              "      <td>42.38738</td>\n",
              "      <td>3.15223</td>\n",
              "      <td>6.0</td>\n",
              "      <td>0.0</td>\n",
              "      <td>3.0</td>\n",
              "      <td>3.0</td>\n",
              "      <td>1.0</td>\n",
              "      <td>1125.0</td>\n",
              "      <td>1.0</td>\n",
              "      <td>14.0</td>\n",
              "      <td>...</td>\n",
              "      <td>NaN</td>\n",
              "      <td>NaN</td>\n",
              "      <td>NaN</td>\n",
              "      <td>NaN</td>\n",
              "      <td>NaN</td>\n",
              "      <td>NaN</td>\n",
              "      <td>NaN</td>\n",
              "      <td>NaN</td>\n",
              "      <td>NaN</td>\n",
              "      <td>NaN</td>\n",
              "    </tr>\n",
              "    <tr>\n",
              "      <th>30922636</th>\n",
              "      <th>https://www.airbnb.com/rooms/30922636</th>\n",
              "      <th>2.023030e+13</th>\n",
              "      <th>01/04/2023</th>\n",
              "      <th>city scrape</th>\n",
              "      <th>fanÃ©-mar 5 - apartment with spectacular views, jus</th>\n",
              "      <th>Apartment in 1st line of the sea located in FanÃ© de Baix (LlanÃ§Ã ) 300m from the beach and 2km from the center. With spectacular views from the terrace that seems to be hanging on the sea on the round road that leads to Port de la Selva. It has 2 bedrooms, livingroom, kitchen, bathroom, washing-machine, TV, exterior parking space and terrace with sea views. HUTG-007683&lt;br /&gt;Wifi available from june to novembre 2022.&lt;br /&gt;&lt;br /&gt;&lt;b&gt;Other things to note&lt;/b&gt;&lt;br /&gt;Optional services (not included in the price)&lt;br /&gt;&lt;br /&gt;Linen and Towels per person: 15,00 â¬ &lt;br /&gt;&lt;br /&gt;Supplement pets: 30,00 â¬&lt;br /&gt;&lt;br /&gt;&lt;b&gt;License number&lt;/b&gt;&lt;br /&gt;HUTG-007683</th>\n",
              "      <th>NaN</th>\n",
              "      <th>https://a0.muscache.com/pictures/prohost-api/Hosting-30922636/original/8041879d-fd34-45ae-b13e-449e04806198.jpeg</th>\n",
              "      <th>113356954</th>\n",
              "      <th>https://www.airbnb.com/users/show/113356954</th>\n",
              "      <th>Company TurÃ­stic</th>\n",
              "      <th>26/01/2017</th>\n",
              "      <th>LlanÃ§Ã , Spain</th>\n",
              "      <th>Somos una empresa de servicios inmobiliarios con una larga trayectoria profesional, el aÃ±o 1.963 hicimos 50 aÃ±os. Nuestro equipo de 50 personas repartidas en cuatro oficinas en la zona de la Costa Brava, con dominio de varios idiomas, garantiza a nuestros clientes un servicio profesional y de calidad. Ofrecemos una amplia variedad de alojamientos de vacaciones, desde apartamentos de una habitaciÃ³n a casas con piscina en Companyturistic de Finques Company.</th>\n",
              "      <th>within an hour</th>\n",
              "      <th>98%</th>\n",
              "      <th>100%</th>\n",
              "      <th>f</th>\n",
              "      <th>https://a0.muscache.com/im/pictures/user/89f37b93-9063-4eec-b43d-356056a7ff1f.jpg?aki_policy=profile_small</th>\n",
              "      <th>https://a0.muscache.com/im/pictures/user/89f37b93-9063-4eec-b43d-356056a7ff1f.jpg?aki_policy=profile_x_medium</th>\n",
              "      <th>NaN</th>\n",
              "      <th>129.0</th>\n",
              "      <th>358.0</th>\n",
              "      <th>['email', 'phone', 'work_email']</th>\n",
              "      <th>t</th>\n",
              "      <th>t</th>\n",
              "      <th>NaN</th>\n",
              "      <th>LlanÃ§Ã</th>\n",
              "      <th>NaN</th>\n",
              "      <td>42.35872</td>\n",
              "      <td>3.16700</td>\n",
              "      <td>4.0</td>\n",
              "      <td>0.0</td>\n",
              "      <td>2.0</td>\n",
              "      <td>3.0</td>\n",
              "      <td>1.0</td>\n",
              "      <td>1125.0</td>\n",
              "      <td>1.0</td>\n",
              "      <td>14.0</td>\n",
              "      <td>...</td>\n",
              "      <td>NaN</td>\n",
              "      <td>NaN</td>\n",
              "      <td>NaN</td>\n",
              "      <td>NaN</td>\n",
              "      <td>NaN</td>\n",
              "      <td>NaN</td>\n",
              "      <td>NaN</td>\n",
              "      <td>NaN</td>\n",
              "      <td>NaN</td>\n",
              "      <td>NaN</td>\n",
              "    </tr>\n",
              "  </tbody>\n",
              "</table>\n",
              "<p>5 rows × 45 columns</p>\n",
              "</div>\n",
              "      <button class=\"colab-df-convert\" onclick=\"convertToInteractive('df-339b0a78-3ecf-42b5-8092-75ffc1c2e958')\"\n",
              "              title=\"Convert this dataframe to an interactive table.\"\n",
              "              style=\"display:none;\">\n",
              "        \n",
              "  <svg xmlns=\"http://www.w3.org/2000/svg\" height=\"24px\"viewBox=\"0 0 24 24\"\n",
              "       width=\"24px\">\n",
              "    <path d=\"M0 0h24v24H0V0z\" fill=\"none\"/>\n",
              "    <path d=\"M18.56 5.44l.94 2.06.94-2.06 2.06-.94-2.06-.94-.94-2.06-.94 2.06-2.06.94zm-11 1L8.5 8.5l.94-2.06 2.06-.94-2.06-.94L8.5 2.5l-.94 2.06-2.06.94zm10 10l.94 2.06.94-2.06 2.06-.94-2.06-.94-.94-2.06-.94 2.06-2.06.94z\"/><path d=\"M17.41 7.96l-1.37-1.37c-.4-.4-.92-.59-1.43-.59-.52 0-1.04.2-1.43.59L10.3 9.45l-7.72 7.72c-.78.78-.78 2.05 0 2.83L4 21.41c.39.39.9.59 1.41.59.51 0 1.02-.2 1.41-.59l7.78-7.78 2.81-2.81c.8-.78.8-2.07 0-2.86zM5.41 20L4 18.59l7.72-7.72 1.47 1.35L5.41 20z\"/>\n",
              "  </svg>\n",
              "      </button>\n",
              "      \n",
              "  <style>\n",
              "    .colab-df-container {\n",
              "      display:flex;\n",
              "      flex-wrap:wrap;\n",
              "      gap: 12px;\n",
              "    }\n",
              "\n",
              "    .colab-df-convert {\n",
              "      background-color: #E8F0FE;\n",
              "      border: none;\n",
              "      border-radius: 50%;\n",
              "      cursor: pointer;\n",
              "      display: none;\n",
              "      fill: #1967D2;\n",
              "      height: 32px;\n",
              "      padding: 0 0 0 0;\n",
              "      width: 32px;\n",
              "    }\n",
              "\n",
              "    .colab-df-convert:hover {\n",
              "      background-color: #E2EBFA;\n",
              "      box-shadow: 0px 1px 2px rgba(60, 64, 67, 0.3), 0px 1px 3px 1px rgba(60, 64, 67, 0.15);\n",
              "      fill: #174EA6;\n",
              "    }\n",
              "\n",
              "    [theme=dark] .colab-df-convert {\n",
              "      background-color: #3B4455;\n",
              "      fill: #D2E3FC;\n",
              "    }\n",
              "\n",
              "    [theme=dark] .colab-df-convert:hover {\n",
              "      background-color: #434B5C;\n",
              "      box-shadow: 0px 1px 3px 1px rgba(0, 0, 0, 0.15);\n",
              "      filter: drop-shadow(0px 1px 2px rgba(0, 0, 0, 0.3));\n",
              "      fill: #FFFFFF;\n",
              "    }\n",
              "  </style>\n",
              "\n",
              "      <script>\n",
              "        const buttonEl =\n",
              "          document.querySelector('#df-339b0a78-3ecf-42b5-8092-75ffc1c2e958 button.colab-df-convert');\n",
              "        buttonEl.style.display =\n",
              "          google.colab.kernel.accessAllowed ? 'block' : 'none';\n",
              "\n",
              "        async function convertToInteractive(key) {\n",
              "          const element = document.querySelector('#df-339b0a78-3ecf-42b5-8092-75ffc1c2e958');\n",
              "          const dataTable =\n",
              "            await google.colab.kernel.invokeFunction('convertToInteractive',\n",
              "                                                     [key], {});\n",
              "          if (!dataTable) return;\n",
              "\n",
              "          const docLinkHtml = 'Like what you see? Visit the ' +\n",
              "            '<a target=\"_blank\" href=https://colab.research.google.com/notebooks/data_table.ipynb>data table notebook</a>'\n",
              "            + ' to learn more about interactive tables.';\n",
              "          element.innerHTML = '';\n",
              "          dataTable['output_type'] = 'display_data';\n",
              "          await google.colab.output.renderOutput(dataTable, element);\n",
              "          const docLink = document.createElement('div');\n",
              "          docLink.innerHTML = docLinkHtml;\n",
              "          element.appendChild(docLink);\n",
              "        }\n",
              "      </script>\n",
              "    </div>\n",
              "  </div>\n",
              "  "
            ]
          },
          "metadata": {},
          "execution_count": 91
        }
      ]
    },
    {
      "cell_type": "markdown",
      "source": [
        "Se uso el metodo de Rango intercuartilico debido a que considero que es una herramienta útil para describir la variabilidad de los datos y detectar valores atípicos en un conjunto de datos. Pues, es menos sensible a los outliers que otras medidas de dispersión, como la desviación estándar."
      ],
      "metadata": {
        "id": "I1uYZg6GVJiC"
      }
    }
  ]
}