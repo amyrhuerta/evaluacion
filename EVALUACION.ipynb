{
  "nbformat": 4,
  "nbformat_minor": 0,
  "metadata": {
    "colab": {
      "provenance": [],
      "authorship_tag": "ABX9TyOejPLDAyaPOisf+v495i6K",
      "include_colab_link": true
    },
    "kernelspec": {
      "name": "python3",
      "display_name": "Python 3"
    },
    "language_info": {
      "name": "python"
    }
  },
  "cells": [
    {
      "cell_type": "markdown",
      "metadata": {
        "id": "view-in-github",
        "colab_type": "text"
      },
      "source": [
        "<a href=\"https://colab.research.google.com/github/amyrhuerta/evaluacion/blob/main/EVALUACION.ipynb\" target=\"_parent\"><img src=\"https://colab.research.google.com/assets/colab-badge.svg\" alt=\"Open In Colab\"/></a>"
      ]
    },
    {
      "cell_type": "markdown",
      "source": [
        "# **Evaluacion**\n",
        "\n",
        "Amairany | A101702927"
      ],
      "metadata": {
        "id": "J8JPhRaf12qT"
      }
    },
    {
      "cell_type": "markdown",
      "source": [
        "## Parte 1: Preprocesamiento de datos"
      ],
      "metadata": {
        "id": "Xh8_wOly18Ay"
      }
    },
    {
      "cell_type": "code",
      "source": [
        "# importamos las librerias\n",
        "import pandas as pd\n",
        "import numpy as np\n",
        "import matplotlib.pyplot as plt\n",
        "import seaborn as sns"
      ],
      "metadata": {
        "id": "W6FJU6_512Iv"
      },
      "execution_count": 93,
      "outputs": []
    },
    {
      "cell_type": "code",
      "execution_count": 94,
      "metadata": {
        "id": "4zNDswI31vra"
      },
      "outputs": [],
      "source": [
        "# declaramos nuestros dataframes\n",
        "dfeua=pd.read_csv(\"California_EUA.csv\")\n",
        "dfmex=pd.read_csv(\"DF_Mexico.csv\")\n",
        "dfg=pd.read_csv(\"Girona_Espana.csv\", encoding= 'unicode_escape')"
      ]
    },
    {
      "cell_type": "code",
      "source": [
        "# sumamos el total de los nulos que tiene el data frame de California\n",
        "VN_eua=dfeua.isnull().sum().sum()\n",
        "VN_eua"
      ],
      "metadata": {
        "colab": {
          "base_uri": "https://localhost:8080/"
        },
        "id": "V9acZG2j4Qzq",
        "outputId": "f2b84de1-52cb-4f05-b057-2098d7fc9590"
      },
      "execution_count": 95,
      "outputs": [
        {
          "output_type": "execute_result",
          "data": {
            "text/plain": [
              "48877"
            ]
          },
          "metadata": {},
          "execution_count": 95
        }
      ]
    },
    {
      "cell_type": "code",
      "source": [
        "#reemplazamos los datos nulos del data fame de california\n",
        "#los datos float se reemplazan con un 0 pues considero que es mejor poner un 0 para indicar donde no tenemos informacion a poner un numero que altere el analisis\n",
        "float_cols = dfeua.select_dtypes(include=['float']).columns\n",
        "dfeua[float_cols] = dfeua[float_cols].fillna(value=0)\n",
        "#en las columnas que contienen datos objeto obte por señalar que no se cuenta informacion\n",
        "obj_cols = dfeua.select_dtypes(include=['object']).columns\n",
        "dfeua[obj_cols] = dfeua[obj_cols].fillna(value=\"sin información\")\n",
        "#nuevamente en estas columnas preferi usar un 0 que no cesge los datos posteriores\n",
        "int_cols = dfeua.select_dtypes(include=['int64']).columns\n",
        "dfeua[int_cols] = dfeua[int_cols].fillna(value=0)"
      ],
      "metadata": {
        "id": "G5rgnJHs5j99"
      },
      "execution_count": 96,
      "outputs": []
    },
    {
      "cell_type": "code",
      "source": [
        "VN_eua=dfeua.isnull().sum().sum()\n",
        "VN_eua"
      ],
      "metadata": {
        "colab": {
          "base_uri": "https://localhost:8080/"
        },
        "id": "9LFJRmbk7XPS",
        "outputId": "77a4fbe9-893e-4efe-df84-f3e2b5a7d1d7"
      },
      "execution_count": 97,
      "outputs": [
        {
          "output_type": "execute_result",
          "data": {
            "text/plain": [
              "0"
            ]
          },
          "metadata": {},
          "execution_count": 97
        }
      ]
    },
    {
      "cell_type": "code",
      "source": [
        "dfeua.to_csv(\"dfeua SIN NULOS.csv\")\n",
        "from google.colab import files\n",
        "files.download(\"dfeua SIN NULOS.csv\")"
      ],
      "metadata": {
        "colab": {
          "base_uri": "https://localhost:8080/",
          "height": 17
        },
        "id": "JNx5HjOkH_Zm",
        "outputId": "ed2a07f4-91dc-4615-ecda-d63048a07878"
      },
      "execution_count": 98,
      "outputs": [
        {
          "output_type": "display_data",
          "data": {
            "text/plain": [
              "<IPython.core.display.Javascript object>"
            ],
            "application/javascript": [
              "\n",
              "    async function download(id, filename, size) {\n",
              "      if (!google.colab.kernel.accessAllowed) {\n",
              "        return;\n",
              "      }\n",
              "      const div = document.createElement('div');\n",
              "      const label = document.createElement('label');\n",
              "      label.textContent = `Downloading \"${filename}\": `;\n",
              "      div.appendChild(label);\n",
              "      const progress = document.createElement('progress');\n",
              "      progress.max = size;\n",
              "      div.appendChild(progress);\n",
              "      document.body.appendChild(div);\n",
              "\n",
              "      const buffers = [];\n",
              "      let downloaded = 0;\n",
              "\n",
              "      const channel = await google.colab.kernel.comms.open(id);\n",
              "      // Send a message to notify the kernel that we're ready.\n",
              "      channel.send({})\n",
              "\n",
              "      for await (const message of channel.messages) {\n",
              "        // Send a message to notify the kernel that we're ready.\n",
              "        channel.send({})\n",
              "        if (message.buffers) {\n",
              "          for (const buffer of message.buffers) {\n",
              "            buffers.push(buffer);\n",
              "            downloaded += buffer.byteLength;\n",
              "            progress.value = downloaded;\n",
              "          }\n",
              "        }\n",
              "      }\n",
              "      const blob = new Blob(buffers, {type: 'application/binary'});\n",
              "      const a = document.createElement('a');\n",
              "      a.href = window.URL.createObjectURL(blob);\n",
              "      a.download = filename;\n",
              "      div.appendChild(a);\n",
              "      a.click();\n",
              "      div.remove();\n",
              "    }\n",
              "  "
            ]
          },
          "metadata": {}
        },
        {
          "output_type": "display_data",
          "data": {
            "text/plain": [
              "<IPython.core.display.Javascript object>"
            ],
            "application/javascript": [
              "download(\"download_198e6ed8-424c-4c2c-a024-6317cb5925af\", \"dfeua SIN NULOS.csv\", 20406637)"
            ]
          },
          "metadata": {}
        }
      ]
    },
    {
      "cell_type": "code",
      "source": [
        "VN_mex=dfmex.isnull().sum().sum()\n",
        "VN_mex"
      ],
      "metadata": {
        "id": "RPwqxS_N6BTL",
        "colab": {
          "base_uri": "https://localhost:8080/"
        },
        "outputId": "c5b9c8b7-5249-4fa7-ebb0-cacdea4c8594"
      },
      "execution_count": 99,
      "outputs": [
        {
          "output_type": "execute_result",
          "data": {
            "text/plain": [
              "189609"
            ]
          },
          "metadata": {},
          "execution_count": 99
        }
      ]
    },
    {
      "cell_type": "code",
      "source": [
        "#reemplazamos los datos nulos del data fame de california\n",
        "#los datos float se reemplazan con un 0 pues considero que es mejor poner un 0 para indicar donde no tenemos informacion a poner un numero que altere el analisis\n",
        "float_cols = dfmex.select_dtypes(include=['float']).columns\n",
        "dfmex[float_cols] = dfmex[float_cols].fillna(value=0)\n",
        "#en las columnas que contienen datos objeto obte por señalar que no se cuenta informacion\n",
        "obj_cols = dfmex.select_dtypes(include=['object']).columns\n",
        "dfmex[obj_cols] = dfmex[obj_cols].fillna(value=\"sin información\")\n",
        "#nuevamente en estas columnas preferi usar un 0 que no cesge los datos posteriores\n",
        "int_cols = dfmex.select_dtypes(include=['int64']).columns\n",
        "dfmex[int_cols] = dfmex[int_cols].fillna(value=0)"
      ],
      "metadata": {
        "id": "XQwsA8n756NU"
      },
      "execution_count": 100,
      "outputs": []
    },
    {
      "cell_type": "code",
      "source": [
        "VN_mex=dfmex.isnull().sum().sum()\n",
        "VN_mex"
      ],
      "metadata": {
        "id": "g83QyAW0-dZU",
        "colab": {
          "base_uri": "https://localhost:8080/"
        },
        "outputId": "4a60cdcc-0b17-41bf-da9a-4e936cb77b40"
      },
      "execution_count": 101,
      "outputs": [
        {
          "output_type": "execute_result",
          "data": {
            "text/plain": [
              "0"
            ]
          },
          "metadata": {},
          "execution_count": 101
        }
      ]
    },
    {
      "cell_type": "code",
      "source": [
        "dfmex.to_csv(\"dfmex SIN NULOS.csv\")\n",
        "from google.colab import files\n",
        "files.download(\"dfmex SIN NULOS.csv\")"
      ],
      "metadata": {
        "colab": {
          "base_uri": "https://localhost:8080/",
          "height": 17
        },
        "id": "DbCeHOAsB5nl",
        "outputId": "a97cccf5-d328-469a-98b8-286fd0217980"
      },
      "execution_count": 126,
      "outputs": [
        {
          "output_type": "display_data",
          "data": {
            "text/plain": [
              "<IPython.core.display.Javascript object>"
            ],
            "application/javascript": [
              "\n",
              "    async function download(id, filename, size) {\n",
              "      if (!google.colab.kernel.accessAllowed) {\n",
              "        return;\n",
              "      }\n",
              "      const div = document.createElement('div');\n",
              "      const label = document.createElement('label');\n",
              "      label.textContent = `Downloading \"${filename}\": `;\n",
              "      div.appendChild(label);\n",
              "      const progress = document.createElement('progress');\n",
              "      progress.max = size;\n",
              "      div.appendChild(progress);\n",
              "      document.body.appendChild(div);\n",
              "\n",
              "      const buffers = [];\n",
              "      let downloaded = 0;\n",
              "\n",
              "      const channel = await google.colab.kernel.comms.open(id);\n",
              "      // Send a message to notify the kernel that we're ready.\n",
              "      channel.send({})\n",
              "\n",
              "      for await (const message of channel.messages) {\n",
              "        // Send a message to notify the kernel that we're ready.\n",
              "        channel.send({})\n",
              "        if (message.buffers) {\n",
              "          for (const buffer of message.buffers) {\n",
              "            buffers.push(buffer);\n",
              "            downloaded += buffer.byteLength;\n",
              "            progress.value = downloaded;\n",
              "          }\n",
              "        }\n",
              "      }\n",
              "      const blob = new Blob(buffers, {type: 'application/binary'});\n",
              "      const a = document.createElement('a');\n",
              "      a.href = window.URL.createObjectURL(blob);\n",
              "      a.download = filename;\n",
              "      div.appendChild(a);\n",
              "      a.click();\n",
              "      div.remove();\n",
              "    }\n",
              "  "
            ]
          },
          "metadata": {}
        },
        {
          "output_type": "display_data",
          "data": {
            "text/plain": [
              "<IPython.core.display.Javascript object>"
            ],
            "application/javascript": [
              "download(\"download_0ac64aac-6bdb-4500-bd5d-856f32e9bc95\", \"dfmex SIN NULOS.csv\", 62497399)"
            ]
          },
          "metadata": {}
        }
      ]
    },
    {
      "cell_type": "code",
      "source": [
        "VN_g=dfg.isnull().sum().sum()\n",
        "VN_g"
      ],
      "metadata": {
        "id": "e26QBhGm6Hyf",
        "colab": {
          "base_uri": "https://localhost:8080/"
        },
        "outputId": "601000ef-c4f1-440d-948c-1364ffb42efe"
      },
      "execution_count": 103,
      "outputs": [
        {
          "output_type": "execute_result",
          "data": {
            "text/plain": [
              "22721"
            ]
          },
          "metadata": {},
          "execution_count": 103
        }
      ]
    },
    {
      "cell_type": "code",
      "source": [
        "#reemplazamos los datos nulos del data fame de california\n",
        "#los datos float se reemplazan con un 0 pues considero que es mejor poner un 0 para indicar donde no tenemos informacion a poner un numero que altere el analisis\n",
        "float_cols = dfg.select_dtypes(include=['float']).columns\n",
        "dfg[float_cols] = dfg[float_cols].fillna(value=0)\n",
        "#en las columnas que contienen datos objeto obte por señalar que no se cuenta informacion\n",
        "obj_cols = dfg.select_dtypes(include=['object']).columns\n",
        "dfg[obj_cols] = dfg[obj_cols].fillna(value=\"sin información\")\n",
        "#nuevamente en estas columnas preferi usar un 0 que no cesge los datos posteriores\n",
        "int_cols = dfg.select_dtypes(include=['int64']).columns\n",
        "dfg[int_cols] = dfg[int_cols].fillna(value=0)"
      ],
      "metadata": {
        "id": "fqA0nBhX57jB"
      },
      "execution_count": 104,
      "outputs": []
    },
    {
      "cell_type": "code",
      "source": [
        "VN_g=dfg.isnull().sum().sum()\n",
        "VN_g"
      ],
      "metadata": {
        "id": "lc4UrDm1-fQ_",
        "colab": {
          "base_uri": "https://localhost:8080/"
        },
        "outputId": "d796389d-dd5c-476c-aa07-a2cad31b2587"
      },
      "execution_count": 105,
      "outputs": [
        {
          "output_type": "execute_result",
          "data": {
            "text/plain": [
              "0"
            ]
          },
          "metadata": {},
          "execution_count": 105
        }
      ]
    },
    {
      "cell_type": "code",
      "source": [
        "dfg.to_csv(\"dfg SIN NULOS.csv\")\n",
        "from google.colab import files\n",
        "files.download(\"dfg SIN NULOS.csv\")"
      ],
      "metadata": {
        "colab": {
          "base_uri": "https://localhost:8080/",
          "height": 17
        },
        "id": "cU0OIG0hX1kl",
        "outputId": "a44e8d26-b31d-4ed6-aedf-bc90b71a98db"
      },
      "execution_count": 127,
      "outputs": [
        {
          "output_type": "display_data",
          "data": {
            "text/plain": [
              "<IPython.core.display.Javascript object>"
            ],
            "application/javascript": [
              "\n",
              "    async function download(id, filename, size) {\n",
              "      if (!google.colab.kernel.accessAllowed) {\n",
              "        return;\n",
              "      }\n",
              "      const div = document.createElement('div');\n",
              "      const label = document.createElement('label');\n",
              "      label.textContent = `Downloading \"${filename}\": `;\n",
              "      div.appendChild(label);\n",
              "      const progress = document.createElement('progress');\n",
              "      progress.max = size;\n",
              "      div.appendChild(progress);\n",
              "      document.body.appendChild(div);\n",
              "\n",
              "      const buffers = [];\n",
              "      let downloaded = 0;\n",
              "\n",
              "      const channel = await google.colab.kernel.comms.open(id);\n",
              "      // Send a message to notify the kernel that we're ready.\n",
              "      channel.send({})\n",
              "\n",
              "      for await (const message of channel.messages) {\n",
              "        // Send a message to notify the kernel that we're ready.\n",
              "        channel.send({})\n",
              "        if (message.buffers) {\n",
              "          for (const buffer of message.buffers) {\n",
              "            buffers.push(buffer);\n",
              "            downloaded += buffer.byteLength;\n",
              "            progress.value = downloaded;\n",
              "          }\n",
              "        }\n",
              "      }\n",
              "      const blob = new Blob(buffers, {type: 'application/binary'});\n",
              "      const a = document.createElement('a');\n",
              "      a.href = window.URL.createObjectURL(blob);\n",
              "      a.download = filename;\n",
              "      div.appendChild(a);\n",
              "      a.click();\n",
              "      div.remove();\n",
              "    }\n",
              "  "
            ]
          },
          "metadata": {}
        },
        {
          "output_type": "display_data",
          "data": {
            "text/plain": [
              "<IPython.core.display.Javascript object>"
            ],
            "application/javascript": [
              "download(\"download_1e0ce8a4-3d8e-4e18-83f9-4fc89b54ce22\", \"dfg SIN NULOS.csv\", 15291141)"
            ]
          },
          "metadata": {}
        }
      ]
    },
    {
      "cell_type": "markdown",
      "source": [
        "###Rango intercuartilico California"
      ],
      "metadata": {
        "id": "o8Mn1tvLJQOh"
      }
    },
    {
      "cell_type": "code",
      "source": [
        "nonumericos = dfeua.select_dtypes(exclude=['object'])\n",
        "\n",
        "# Eliminar las columnas seleccionadas\n",
        "data4 = dfeua.drop(nonumericos.columns, axis=1)"
      ],
      "metadata": {
        "id": "G-XZSWHkCARJ"
      },
      "execution_count": 106,
      "outputs": []
    },
    {
      "cell_type": "code",
      "source": [
        "y=data4\n",
        "\n",
        "percentile25=y.quantile(0.25, numeric_only=True) #Q1\n",
        "percentile75=y.quantile(0.75, numeric_only=True) #Q3\n",
        "iqr= percentile75 - percentile25\n",
        "\n",
        "Limite_Superior_iqr= percentile75 + 1.5*iqr\n",
        "Limite_Inferior_iqr= percentile25 - 1.5*iqr\n",
        "print(\"Limite superior permitido\", Limite_Superior_iqr)\n",
        "print(\"Limite inferior permitido\", Limite_Inferior_iqr)"
      ],
      "metadata": {
        "colab": {
          "base_uri": "https://localhost:8080/"
        },
        "id": "wjCmxZ_oC63P",
        "outputId": "a7d1c929-2bc4-47b9-c141-5797f6066e99"
      },
      "execution_count": 107,
      "outputs": [
        {
          "output_type": "stream",
          "name": "stdout",
          "text": [
            "Limite superior permitido Series([], dtype: float64)\n",
            "Limite inferior permitido Series([], dtype: float64)\n"
          ]
        }
      ]
    },
    {
      "cell_type": "code",
      "source": [
        "#Encontramos Outliers del Dataframe\n",
        "outliers_iqr= data4[(y>Limite_Superior_iqr)|(y<Limite_Inferior_iqr)]\n",
        "#Obtenemos datos limpios del Dataframe\n",
        "data3_iqr= data4[(y<=Limite_Superior_iqr)&(y>=Limite_Inferior_iqr)]"
      ],
      "metadata": {
        "colab": {
          "base_uri": "https://localhost:8080/"
        },
        "id": "vbarPJQTC_fN",
        "outputId": "4c710c01-c04f-4dda-824d-4b0d72284bd2"
      },
      "execution_count": 108,
      "outputs": [
        {
          "output_type": "stream",
          "name": "stderr",
          "text": [
            "<ipython-input-108-71eec20d6574>:2: FutureWarning: Automatic reindexing on DataFrame vs Series comparisons is deprecated and will raise ValueError in a future version. Do `left, right = left.align(right, axis=1, copy=False)` before e.g. `left == right`\n",
            "  outliers_iqr= data4[(y>Limite_Superior_iqr)|(y<Limite_Inferior_iqr)]\n",
            "<ipython-input-108-71eec20d6574>:4: FutureWarning: Automatic reindexing on DataFrame vs Series comparisons is deprecated and will raise ValueError in a future version. Do `left, right = left.align(right, axis=1, copy=False)` before e.g. `left == right`\n",
            "  data3_iqr= data4[(y<=Limite_Superior_iqr)&(y>=Limite_Inferior_iqr)]\n"
          ]
        }
      ]
    },
    {
      "cell_type": "code",
      "source": [
        "#Corroboramos valores nulos del dataframe LIMPIO\n",
        "valores_nulos=data3_iqr.isnull().sum().sum()\n",
        "valores_nulos"
      ],
      "metadata": {
        "colab": {
          "base_uri": "https://localhost:8080/"
        },
        "id": "Ayn86gfuFtfd",
        "outputId": "1a78adcd-3eb5-4a30-da60-e593c2651e70"
      },
      "execution_count": 109,
      "outputs": [
        {
          "output_type": "execute_result",
          "data": {
            "text/plain": [
              "242760"
            ]
          },
          "metadata": {},
          "execution_count": 109
        }
      ]
    },
    {
      "cell_type": "code",
      "source": [
        "#Reemplazamos valores atípicos (nulos) del dataframe con \"mean\"\n",
        "#Realizamos una copia del dataframe\n",
        "data5_iqr=data3_iqr.copy()\n",
        "data5_iqr=data5_iqr.fillna(round(data3_iqr.mean(),1))"
      ],
      "metadata": {
        "id": "cwfWWHVaFzvN"
      },
      "execution_count": 110,
      "outputs": []
    },
    {
      "cell_type": "code",
      "source": [
        "datos_obj=nonumericos\n",
        "Datos_limpios = pd.concat([datos_obj, data5_iqr], axis=1)"
      ],
      "metadata": {
        "id": "TUnxEBf2F8F0"
      },
      "execution_count": 124,
      "outputs": []
    },
    {
      "cell_type": "markdown",
      "source": [
        "###Rango intercuartilico Mex"
      ],
      "metadata": {
        "id": "NZaCO3f8T-sG"
      }
    },
    {
      "cell_type": "code",
      "source": [
        "nonumericos = dfmex.select_dtypes(exclude=['object'])\n",
        "\n",
        "# Eliminar las columnas seleccionadas\n",
        "data4 = dfmex.drop(nonumericos.columns, axis=1)"
      ],
      "metadata": {
        "id": "V3C8nRE8T-sR"
      },
      "execution_count": 112,
      "outputs": []
    },
    {
      "cell_type": "code",
      "source": [
        "y=data4\n",
        "\n",
        "percentile25=y.quantile(0.25, numeric_only=True) #Q1\n",
        "percentile75=y.quantile(0.75, numeric_only=True) #Q3\n",
        "iqr= percentile75 - percentile25\n",
        "\n",
        "Limite_Superior_iqr= percentile75 + 1.5*iqr\n",
        "Limite_Inferior_iqr= percentile25 - 1.5*iqr\n",
        "print(\"Limite superior permitido\", Limite_Superior_iqr)\n",
        "print(\"Limite inferior permitido\", Limite_Inferior_iqr)"
      ],
      "metadata": {
        "colab": {
          "base_uri": "https://localhost:8080/"
        },
        "outputId": "ce466efa-3f77-4526-d464-99fbcb3d558f",
        "id": "PX7QWCF3T-sT"
      },
      "execution_count": 113,
      "outputs": [
        {
          "output_type": "stream",
          "name": "stdout",
          "text": [
            "Limite superior permitido Series([], dtype: float64)\n",
            "Limite inferior permitido Series([], dtype: float64)\n"
          ]
        }
      ]
    },
    {
      "cell_type": "code",
      "source": [
        "#Encontramos Outliers del Dataframe\n",
        "outliers_iqr= data4[(y>Limite_Superior_iqr)|(y<Limite_Inferior_iqr)]\n",
        "#Obtenemos datos limpios del Dataframe\n",
        "data3_iqr= data4[(y<=Limite_Superior_iqr)&(y>=Limite_Inferior_iqr)]"
      ],
      "metadata": {
        "colab": {
          "base_uri": "https://localhost:8080/"
        },
        "outputId": "1db4d92e-695d-48b9-b67c-8bacffeb95f2",
        "id": "hiE7rx7dT-sV"
      },
      "execution_count": 114,
      "outputs": [
        {
          "output_type": "stream",
          "name": "stderr",
          "text": [
            "<ipython-input-114-71eec20d6574>:2: FutureWarning: Automatic reindexing on DataFrame vs Series comparisons is deprecated and will raise ValueError in a future version. Do `left, right = left.align(right, axis=1, copy=False)` before e.g. `left == right`\n",
            "  outliers_iqr= data4[(y>Limite_Superior_iqr)|(y<Limite_Inferior_iqr)]\n",
            "<ipython-input-114-71eec20d6574>:4: FutureWarning: Automatic reindexing on DataFrame vs Series comparisons is deprecated and will raise ValueError in a future version. Do `left, right = left.align(right, axis=1, copy=False)` before e.g. `left == right`\n",
            "  data3_iqr= data4[(y<=Limite_Superior_iqr)&(y>=Limite_Inferior_iqr)]\n"
          ]
        }
      ]
    },
    {
      "cell_type": "code",
      "source": [
        "#Corroboramos valores nulos del dataframe LIMPIO\n",
        "valores_nulos=data3_iqr.isnull().sum().sum()\n",
        "valores_nulos"
      ],
      "metadata": {
        "colab": {
          "base_uri": "https://localhost:8080/"
        },
        "outputId": "03c003f5-76c0-443d-8696-909e19e2a5e7",
        "id": "lZu0TvrgT-sW"
      },
      "execution_count": 115,
      "outputs": [
        {
          "output_type": "execute_result",
          "data": {
            "text/plain": [
              "823616"
            ]
          },
          "metadata": {},
          "execution_count": 115
        }
      ]
    },
    {
      "cell_type": "code",
      "source": [
        "#Reemplazamos valores atípicos (nulos) del dataframe con \"mean\"\n",
        "#Realizamos una copia del dataframe\n",
        "data5_iqr=data3_iqr.copy()\n",
        "data5_iqr=data5_iqr.fillna(round(data3_iqr.mean(),1))"
      ],
      "metadata": {
        "id": "zK0GVDERT-sX"
      },
      "execution_count": 116,
      "outputs": []
    },
    {
      "cell_type": "code",
      "source": [
        "datos_obj=nonumericos\n",
        "Datos_limpios = pd.concat([datos_obj, data5_iqr], axis=1)"
      ],
      "metadata": {
        "id": "XnvorIv7T-sZ"
      },
      "execution_count": 125,
      "outputs": []
    },
    {
      "cell_type": "markdown",
      "source": [
        "###Rango intercuartilico Girona"
      ],
      "metadata": {
        "id": "kORc3D5cUUCU"
      }
    },
    {
      "cell_type": "code",
      "source": [
        "nonumericos = dfg.select_dtypes(exclude=['object'])\n",
        "\n",
        "# Eliminar las columnas seleccionadas\n",
        "data4 = dfg.drop(nonumericos.columns, axis=1)"
      ],
      "metadata": {
        "id": "x7R3XNDfUUCb"
      },
      "execution_count": 118,
      "outputs": []
    },
    {
      "cell_type": "code",
      "source": [
        "y=data4\n",
        "\n",
        "percentile25=y.quantile(0.25, numeric_only=True) #Q1\n",
        "percentile75=y.quantile(0.75, numeric_only=True) #Q3\n",
        "iqr= percentile75 - percentile25\n",
        "\n",
        "Limite_Superior_iqr= percentile75 + 1.5*iqr\n",
        "Limite_Inferior_iqr= percentile25 - 1.5*iqr\n",
        "print(\"Limite superior permitido\", Limite_Superior_iqr)\n",
        "print(\"Limite inferior permitido\", Limite_Inferior_iqr)"
      ],
      "metadata": {
        "colab": {
          "base_uri": "https://localhost:8080/"
        },
        "outputId": "f93d74f7-8b7d-46d0-dc97-b27be83d422e",
        "id": "CAgx8gtvUUCc"
      },
      "execution_count": 119,
      "outputs": [
        {
          "output_type": "stream",
          "name": "stdout",
          "text": [
            "Limite superior permitido Series([], dtype: float64)\n",
            "Limite inferior permitido Series([], dtype: float64)\n"
          ]
        }
      ]
    },
    {
      "cell_type": "code",
      "source": [
        "#Encontramos Outliers del Dataframe\n",
        "outliers_iqr= data4[(y>Limite_Superior_iqr)|(y<Limite_Inferior_iqr)]\n",
        "#Obtenemos datos limpios del Dataframe\n",
        "data3_iqr= data4[(y<=Limite_Superior_iqr)&(y>=Limite_Inferior_iqr)]"
      ],
      "metadata": {
        "colab": {
          "base_uri": "https://localhost:8080/"
        },
        "outputId": "7062863e-8bc6-4b5c-f127-0f9a8bf67725",
        "id": "ubbrzUpZUUCd"
      },
      "execution_count": 120,
      "outputs": [
        {
          "output_type": "stream",
          "name": "stderr",
          "text": [
            "<ipython-input-120-71eec20d6574>:2: FutureWarning: Automatic reindexing on DataFrame vs Series comparisons is deprecated and will raise ValueError in a future version. Do `left, right = left.align(right, axis=1, copy=False)` before e.g. `left == right`\n",
            "  outliers_iqr= data4[(y>Limite_Superior_iqr)|(y<Limite_Inferior_iqr)]\n",
            "<ipython-input-120-71eec20d6574>:4: FutureWarning: Automatic reindexing on DataFrame vs Series comparisons is deprecated and will raise ValueError in a future version. Do `left, right = left.align(right, axis=1, copy=False)` before e.g. `left == right`\n",
            "  data3_iqr= data4[(y<=Limite_Superior_iqr)&(y>=Limite_Inferior_iqr)]\n"
          ]
        }
      ]
    },
    {
      "cell_type": "code",
      "source": [
        "#Corroboramos valores nulos del dataframe LIMPIO\n",
        "valores_nulos=data3_iqr.isnull().sum().sum()\n",
        "valores_nulos"
      ],
      "metadata": {
        "colab": {
          "base_uri": "https://localhost:8080/"
        },
        "outputId": "80445f08-aa02-49a4-9e4e-94bf7513f287",
        "id": "wRS1KaTBUUCe"
      },
      "execution_count": 121,
      "outputs": [
        {
          "output_type": "execute_result",
          "data": {
            "text/plain": [
              "62304"
            ]
          },
          "metadata": {},
          "execution_count": 121
        }
      ]
    },
    {
      "cell_type": "code",
      "source": [
        "#Reemplazamos valores atípicos (nulos) del dataframe con \"mean\"\n",
        "#Realizamos una copia del dataframe\n",
        "data5_iqr=data3_iqr.copy()\n",
        "data5_iqr=data5_iqr.fillna(round(data3_iqr.mean(),1))"
      ],
      "metadata": {
        "id": "uxyiy8VMUUCf"
      },
      "execution_count": 122,
      "outputs": []
    },
    {
      "cell_type": "code",
      "source": [
        "datos_obj=nonumericos\n",
        "Datos_limpios = pd.concat([datos_obj, data5_iqr], axis=1)"
      ],
      "metadata": {
        "id": "gc6bbxRQUUCg"
      },
      "execution_count": 123,
      "outputs": []
    },
    {
      "cell_type": "markdown",
      "source": [
        "Se uso el metodo de Rango intercuartilico debido a que considero que es una herramienta útil para describir la variabilidad de los datos y detectar valores atípicos en un conjunto de datos. Pues, es menos sensible a los outliers que otras medidas de dispersión, como la desviación estándar."
      ],
      "metadata": {
        "id": "I1uYZg6GVJiC"
      }
    }
  ]
}